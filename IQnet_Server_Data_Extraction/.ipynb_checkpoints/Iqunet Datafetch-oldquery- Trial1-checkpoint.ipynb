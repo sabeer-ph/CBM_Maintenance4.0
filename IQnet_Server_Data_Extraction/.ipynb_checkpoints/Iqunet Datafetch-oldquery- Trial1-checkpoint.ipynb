{
 "cells": [
  {
   "cell_type": "code",
   "execution_count": 1,
   "metadata": {},
   "outputs": [],
   "source": [
    "#!pip install opcua\n",
    "#!pip install pymongo.\n"
   ]
  },
  {
   "cell_type": "code",
   "execution_count": 2,
   "metadata": {},
   "outputs": [],
   "source": [
    "#!pip install XlsxWriter"
   ]
  },
  {
   "cell_type": "code",
   "execution_count": 3,
   "metadata": {},
   "outputs": [],
   "source": [
    "from opcua import Client\n",
    "from opcua import ua\n",
    "from xlsxwriter import Workbook\n",
    "from pymongo import MongoClient\n",
    "from datetime import timedelta\n",
    "import pytz\n",
    "import numpy as np\n",
    "import datetime\n",
    "import os, xlrd, sys\n",
    "import logging, random\n"
   ]
  },
  {
   "cell_type": "code",
   "execution_count": 4,
   "metadata": {},
   "outputs": [
    {
     "name": "stdout",
     "output_type": "stream",
     "text": [
      "C:\\Users\\SDTTSP\\Desktop\\Start Test\n",
      "C:\\Users\\SDTTSP\\Desktop\\Start Test\n"
     ]
    }
   ],
   "source": [
    "# Checking current working directory\n",
    "initialpath=os.getcwd()\n",
    "\n",
    "# Fixing project path \n",
    "from pathlib import Path\n",
    "\n",
    "path = Path(initialpath) # on Laptop\n",
    "dir_path = str(path)\n",
    "\n",
    "print(path)\n",
    "print(dir_path)\n"
   ]
  },
  {
   "cell_type": "code",
   "execution_count": 5,
   "metadata": {},
   "outputs": [],
   "source": [
    "logging.basicConfig(filename='iQunet Log.log', filemode='a+', format='%(name)s - %(levelname)s - %(message)s')\n",
    "logging.warning(\"...............Started Getting Data from iQunet Servers.................................\")\n",
    "logging.warning(datetime.datetime.now())       "
   ]
  },
  {
   "cell_type": "code",
   "execution_count": 6,
   "metadata": {},
   "outputs": [],
   "source": [
    "def do_transaction_history(client, nodes, start, end, contes):\n",
    "    if contes is None:\n",
    "        contes = [b''] * len(nodes)\n",
    "#        contes = [b''] * 1 ## for one node\n",
    "    details = ua.ReadRawModifiedDetails()\n",
    "    details.IsReadModified = False\n",
    "    details.StartTime = start\n",
    "    details.EndTime = end\n",
    "    details.NumValuesPerNode = 0\n",
    "    details.ReturnBounds = True\n",
    "\n",
    "    params = ua.HistoryReadParameters()\n",
    "    params.HistoryReadDetails = details\n",
    "    params.TimestampsToReturn = ua.TimestampsToReturn.Both\n",
    "    params.ReleaseContinuationPoints = False\n",
    "    for n, c in zip(nodes, contes):\n",
    "        valueid = ua.HistoryReadValueId()\n",
    "        valueid.NodeId = n.nodeid\n",
    "        valueid.IndexRange = ''\n",
    "        valueid.ContinuationPoint = c\n",
    "        params.NodesToRead.append(valueid)\n",
    "        result = client.uaclient.history_read(params)\n",
    "    return result\n",
    "\n",
    "def getMyFileName(fileName,sheetName,startDate):\n",
    "   # dir_path = os.getcwd()\n",
    "    s1='_'\n",
    "    s2=(startDate.strftime('%Y-%m-%d_%H-%M-%S'),sheetName,fileName)\n",
    "    my_fileName=s1.join(s2)\n",
    "    print(my_fileName)\n",
    "    s1='\\\\'\n",
    "    s2=(dir_path,'Vibration',my_fileName)\n",
    "    my_fileName=s1.join(s2)\n",
    "    wb=Workbook(my_fileName)\n",
    "    return wb\n",
    "\n",
    "def getMyConnection(url,panelNum):\n",
    "    pj=1\n",
    "    while(pj<3):\n",
    "        try:\n",
    "            pj+=1\n",
    "            cl=Client(url, timeout=60*8)\n",
    "            cl.connect()\n",
    "            cl.load_type_definitions()\n",
    "            return cl\n",
    "        except:\n",
    "            sys.stdout.write('\\rFailed to connect to {:s} {:s} Retry-> {:d}'.format(panelNum,url,pj))\n",
    "            logging.warning(\"failed to connect to %s\",url)\n",
    "\n",
    "    \n",
    "class Equipment:\n",
    "    def __init__(self, macIDs, SensorLocation, ConveyerNum,AssetId,PanelNum,IPAddress):\n",
    "        self.macIDs=macIDs\n",
    "        self.SensorLocation=SensorLocation\n",
    "        self.ConveyerNum=ConveyerNum\n",
    "        self.AssetId=AssetId\n",
    "        self.PanelNum=PanelNum\n",
    "        self.IPAddress=IPAddress\n",
    "\n",
    "def readEquipments(fileWithEquipments):\n",
    "    global IPLoc\n",
    "    xl = xlrd.open_workbook(fileWithEquipments)\n",
    "    nameOfSheets=xl.sheet_names()\n",
    "    ##\n",
    "    print(\"nameOfSheets\",nameOfSheets)\n",
    "    st=xl.sheet_by_name(nameOfSheets[0])\n",
    "    macIDs=st.col_values(0)[1:]\n",
    "    SensorLocations=st.col_values(1)[1:]\n",
    "    ConveyerNums=st.col_values(2)[1:]\n",
    "    AssetIds=st.col_values(3)[1:]\n",
    "    PanelNum=st.col_values(4)[1:]\n",
    "    IPAddress=st.col_values(IPLoc)[1:]\n",
    "   \n",
    "    equipment=Equipment(macIDs,SensorLocations,ConveyerNums,AssetIds,PanelNum,IPAddress)\n",
    "    return equipment\n",
    "\n",
    "\n",
    "def updateLocalDataBase(macId,dateTime,dataType,recTime,rawVibration):\n",
    "    global eqpmnts, localDatabaseConnection\n",
    "    ii=eqpmnts.macIDs.index(macId)\n",
    "    \n",
    "    dataToStore = {\n",
    "       \"macId\": macId,\n",
    "       \"sensorLocation\": eqpmnts.SensorLocation[ii] ,\n",
    "       \"conveyerId\": eqpmnts.ConveyerNum[ii],\n",
    "       \"assetId\": eqpmnts.AssetId[ii],\n",
    "       \"updatedAt\": dateTime,  \n",
    "       \"payloadType\": dataType,\n",
    "       \"secs\":recTime,\n",
    "       \"rawVibration\": rawVibration,\n",
    "        } \n",
    "    # Insert Data \n",
    "    localCollection = localDatabaseConnection.iQunet_RawVibrationData\n",
    "    localCollection.insert_one(dataToStore)\n",
    "\n",
    "\n",
    "def updateDateTimeforMacId(macId,dataType,startDate):\n",
    "    global localDatabaseConnection\n",
    "    localCollection = localDatabaseConnection.iQunet_Macid_DatesToStart\n",
    "    dateToUpdate=startDate+timedelta(seconds=1)\n",
    "    myquery = { \"macId\": macId, \"dataType\":dataType }\n",
    "    newvalues = { \"$set\": { \"startDate\": dateToUpdate } }\n",
    "    localCollection.update_one(myquery, newvalues)\n",
    "    \n",
    "    \n",
    "\n",
    "def getDateTimeforMacId(macId,dataType):\n",
    "    global localDatabaseConnection,installationDate\n",
    "    # Creat Collection, its similar to tables in RDBMS\n",
    "    localCollection = localDatabaseConnection.iQunet_Macid_DatesToStart\n",
    "    if localCollection.count_documents({'macId':macId,\"dataType\":dataType})>0:    \n",
    "        myPrecious = localCollection.find_one({'macId':macId,\"dataType\":dataType })\n",
    "    else:\n",
    "        myPrecious={\n",
    "                \"macId\": macId,\n",
    "                \"dataType\":dataType,\n",
    "                \"startDate\":installationDate,\n",
    "                \"MStartDate\":installationDate\n",
    "                }\n",
    "        localCollection.insert_one(myPrecious) \n",
    "    return myPrecious.get('startDate')\n",
    "\n",
    "\n",
    "def updateTemperatureData(macId,DateTime,RecordTemp):\n",
    "    global localDatabaseConnection\n",
    "    localCollection = localDatabaseConnection.iQunet_TemperatureData\n",
    "    myPrecious={\n",
    "                \"macId\": macId,\n",
    "                \"DateTime\":DateTime,\n",
    "                \"RecordTemp\":RecordTemp\n",
    "                }\n",
    "#    print(\"record inserted\",myPrecious)\n",
    "    localCollection.insert_one(myPrecious) \n",
    "    \n"
   ]
  },
  {
   "cell_type": "code",
   "execution_count": 7,
   "metadata": {},
   "outputs": [
    {
     "name": "stdout",
     "output_type": "stream",
     "text": [
      "Connected to MongoDB Database!!!\n"
     ]
    }
   ],
   "source": [
    "##IPLoc=5 ##  5 for Local IP, and 6 for Hamachi,\n",
    "IPLoc=6 # (6th coolumn is ipaddress)\n",
    "installationDate=datetime.datetime.strptime(\"2020-07-07 05:00:00\", '%Y-%m-%d %H:%M:%S')\n",
    "#endDate=datetime.datetime.strptime(\"2019-10-01 00:00:00\", '%Y-%m-%d %H:%M:%S')\n",
    "\n",
    "endDate = pytz.utc.localize(datetime.datetime.now())\n",
    "try: \n",
    "    mongoConnection = MongoClient('mongodb://localhost:27017/')\n",
    "    ## \n",
    "    print(\"Connected to MongoDB Database!!!\")\n",
    "except:   \n",
    "    print(\"Could not connect to MongoDB Database!!!\")\n",
    "    logging.warning('Could not connect to MongoDB Database!!!')\n"
   ]
  },
  {
   "cell_type": "code",
   "execution_count": 8,
   "metadata": {},
   "outputs": [],
   "source": [
    "# Switch to Existing Database named siemensDubai_iQunet_Processed_Database\n",
    "localDatabaseConnection = mongoConnection.siemensDubai_iQunet_Raw_Database\n",
    "#localDatabaseConnection = mongoConnection.Test_iQunet_Raw_Database\n"
   ]
  },
  {
   "cell_type": "code",
   "execution_count": 9,
   "metadata": {},
   "outputs": [
    {
     "data": {
      "text/plain": [
       "'C:\\\\Users\\\\SDTTSP\\\\Desktop\\\\Start Test\\\\Vibration'"
      ]
     },
     "execution_count": 9,
     "metadata": {},
     "output_type": "execute_result"
    }
   ],
   "source": [
    "#dir_path = os.getcwd()\n",
    "s1='\\\\'\n",
    "s2=(dir_path,'Vibration')\n",
    "resultPath = s1.join(s2)\n",
    "resultPath\n"
   ]
  },
  {
   "cell_type": "code",
   "execution_count": 10,
   "metadata": {},
   "outputs": [
    {
     "data": {
      "text/plain": [
       "('C:\\\\Users\\\\SDTTSP\\\\Desktop\\\\Start Test', 'Vibration')"
      ]
     },
     "execution_count": 10,
     "metadata": {},
     "output_type": "execute_result"
    }
   ],
   "source": [
    "s2"
   ]
  },
  {
   "cell_type": "code",
   "execution_count": 11,
   "metadata": {},
   "outputs": [
    {
     "name": "stdout",
     "output_type": "stream",
     "text": [
      "nameOfSheets ['WS01']\n"
     ]
    }
   ],
   "source": [
    "s1='\\\\'\n",
    "s2=(dir_path,'Equipments and MacIds.xlsx')\n",
    "eqpmnts=readEquipments(s1.join(s2)) \n"
   ]
  },
  {
   "cell_type": "code",
   "execution_count": 12,
   "metadata": {},
   "outputs": [
    {
     "data": {
      "text/plain": [
       "('C:\\\\Users\\\\SDTTSP\\\\Desktop\\\\Start Test', 'Equipments and MacIds.xlsx')"
      ]
     },
     "execution_count": 12,
     "metadata": {},
     "output_type": "execute_result"
    }
   ],
   "source": [
    "##\n",
    "s2"
   ]
  },
  {
   "cell_type": "code",
   "execution_count": 13,
   "metadata": {},
   "outputs": [
    {
     "name": "stdout",
     "output_type": "stream",
     "text": [
      "Results not saved in Vibration folder\n",
      "IP Address:  ['192.168.137.15']\n"
     ]
    }
   ],
   "source": [
    "try:\n",
    "    os.mkdir(resultPath)\n",
    "    print(\"Results saved in Vibration folder\")\n",
    "except OSError:\n",
    "    print(\"Results not saved in Vibration folder\")\n",
    "\n",
    "macIds=[] \n",
    "RootRawVibrationData=['accel','veloc']\n",
    "#RawDataToCollect=['xAccelTime','xVelocTime','yAccelTime','yVelocTime','zAccelTime','zVelocTime']\n",
    "RawDataToCollect=['xAccelTime','yAccelTime','zAccelTime']\n",
    "\n",
    "allPanelNums=np.array(eqpmnts.PanelNum)\n",
    "uniqueIPs=np.unique(eqpmnts.IPAddress)\n",
    "random.shuffle(uniqueIPs)\n",
    "print(\"IP Address: \",uniqueIPs)"
   ]
  },
  {
   "cell_type": "code",
   "execution_count": 14,
   "metadata": {},
   "outputs": [
    {
     "name": "stdout",
     "output_type": "stream",
     "text": [
      "\n",
      " opc.tcp://192.168.137.15:4840\n",
      "\n",
      " 7c:92:dd:85\n",
      "Waiting...        2020-07-08_10-05-00_7c92dd85_Panel1_RawData.xlsx\n",
      "Records Updated 99\n",
      " a8:ce:7d:2b\n",
      "Waiting...        2020-07-08_10-05-00_a8ce7d2b_Panel1_RawData.xlsx\n",
      "Records Updated 105\n",
      " 29:9c:fe:16\n",
      "Waiting...        2020-07-08_10-05-00_299cfe16_Panel1_RawData.xlsx\n",
      "Records Updated 102\n",
      " 4c:92:10:8c\n",
      "Waiting...        2020-07-08_10-05-00_4c92108c_Panel1_RawData.xlsx\n",
      "Records Updated 99\n",
      " 44:f4:50:cd\n",
      "Waiting...        2020-07-08_10-05-00_44f450cd_Panel1_RawData.xlsx\n",
      "Records Updated 96\n",
      " 2e:ce:e8:fd\n",
      "Waiting...        2020-07-08_10-05-00_2ecee8fd_Panel1_RawData.xlsx\n",
      "Records Updated 114"
     ]
    }
   ],
   "source": [
    "for url in uniqueIPs:\n",
    "\n",
    "    panelNum=eqpmnts.PanelNum[eqpmnts.IPAddress.index(url)]\n",
    "    index=np.where(panelNum==allPanelNums)[0]\n",
    "    macIdsToCollect=[eqpmnts.macIDs[index[k]] for k in range(len(index))]\n",
    "    \n",
    "    s1=''\n",
    "    s2=('opc.tcp://',url,':4840')\n",
    "    url=s1.join(s2)\n",
    "    print('\\n',url)\n",
    "    s1='_'\n",
    "    s2=(panelNum,\"RawData.xlsx\")\n",
    "    fileName=s1.join(s2)\n",
    "    try:\n",
    "        nodes=[]\n",
    "        cl=getMyConnection(url,panelNum)\n",
    "        \n",
    "        path=[]\n",
    "        path = [ua.QualifiedName(name = 'Objects', namespaceidx = 0)]\n",
    "        \n",
    "        uaNode = cl.get_root_node().get_child(path)\n",
    "        nodes = uaNode.get_children()\n",
    "    except:\n",
    "        print(\"...\")\n",
    "    \n",
    "    for n in nodes:\n",
    "        temp=n.get_display_name().Text\n",
    "        temp1=n.get_children()\n",
    "        if temp in macIdsToCollect:\n",
    "            macIds.append(temp)\n",
    "            \n",
    "#            print(startDate)\n",
    "#            temp7_DateTime=startDate.strftime('%m-%d-%Y %H:%M:%S')\n",
    "            sheetName=temp.replace(':','')\n",
    "            print('\\n',temp)\n",
    "            sys.stdout.write('\\rWaiting...        ')\n",
    "            for m in temp1:\n",
    "                temp3=m.get_display_name().Text\n",
    "                \n",
    "                ###### vibration raw data collection\n",
    "                if temp3 =='vibration':\n",
    "                    iii=0\n",
    "                    wb=getMyFileName(fileName,sheetName,endDate)\n",
    "                    wb_sheet=wb.add_worksheet(sheetName)\n",
    "#                    print(temp3)\n",
    "                    temp4=m.get_children()\n",
    "                    for l in temp4:\n",
    "                        temp5=l.get_children()\n",
    "                        for j in temp5:\n",
    "                            if j.get_display_name().Text in RootRawVibrationData:\n",
    "                                temp6=j.get_children()\n",
    "    #                            print(j.get_display_name().Text)\n",
    "                                \n",
    "                                for i in temp6:\n",
    "                                    temp7=i.get_display_name().Text\n",
    "                                    if temp7 in RawDataToCollect:\n",
    "                                        startDate = pytz.utc.localize(getDateTimeforMacId(temp,temp7))\n",
    "#                                        print(temp7)  \n",
    "                                        nodesIdentified=[i] \n",
    "                                        contes=None\n",
    "                                        more_data=True\n",
    "                                        try:\n",
    "                                            cl=getMyConnection(url,panelNum) ## large data difficut to get in one call\n",
    "                                            while more_data:\n",
    "                                                more_data=False                                        \n",
    "                                                temp7_Histroy=[]\n",
    "                                                \n",
    "                                                temp7_Histroy=do_transaction_history(cl, nodesIdentified , startDate, endDate, contes)\n",
    "                                                contes=[temp7_Histroy[0].ContinuationPoint]\n",
    "                                                for x in temp7_Histroy[0].HistoryData.DataValues:\n",
    "                                                    temp7_DateTime=x.SourceTimestamp\n",
    "                                                    temp7_y_ordinate=x.Value.Value.y_ordinate\n",
    "                                                    temp7_x_abscissa=x.Value.Value.x_abscissa\n",
    "                                                    #Write the column headers\n",
    "                                                    wb_sheet.write(iii, 0, temp7_DateTime.strftime('%m-%d-%Y %H:%M:%S'))\n",
    "                                                    wb_sheet.write(iii, 1, temp7)\n",
    "                                                    secs=temp7_x_abscissa[len(temp7_y_ordinate)-1]\n",
    "                                                    wb_sheet.write(iii, 2, secs)\n",
    "                                                    # Write columns\n",
    "                                                    wb_sheet.write_row(iii, 3, temp7_y_ordinate)\n",
    "                                                    iii+=1\n",
    "                                                    ## Also store the data in the database\n",
    "                                                    updateLocalDataBase(temp,temp7_DateTime,temp7,secs,temp7_y_ordinate)\n",
    "                                                    updateDateTimeforMacId(temp,temp7,temp7_DateTime)\n",
    "                                                    sys.stdout.write('\\rRecords Updated {:d}'.format(iii))\n",
    "                                                sys.stdout.write('\\rRecords Updated {:d}'.format(iii))\n",
    "                                                    \n",
    "                                                     \n",
    "                                                more_data = temp7_Histroy[0].StatusCode.is_good() and temp7_Histroy[0].ContinuationPoint is not None\n",
    "                            \n",
    "                                                ## can delete following two conditions\n",
    "                                                if not temp7_Histroy[0].StatusCode.is_good():\n",
    "                                                    print('Status Code Was Not Good !!')\n",
    "    #                                            if more_data:\n",
    "    #                                                print('more data to fetch, retry in 5 sec') \n",
    "                                        except :\n",
    "                                            print('Error in macId=',temp, ' while getting ', temp7)\n",
    "                                            logging.warning('Error in macId=%s',temp)\n",
    "                                            \n",
    "                                        \n",
    "                    wb.close()\n",
    "                if temp3 == 'boardTemperature':\n",
    "\n",
    "#                    print(temp3)\n",
    "                    startDate = pytz.utc.localize(getDateTimeforMacId(temp,temp3))\n",
    "                    nodesIdentified=[m]    \n",
    "                    contes=None\n",
    "                    more_data=True\n",
    "                    try:\n",
    "                        while more_data:\n",
    "                            temp3_Histroy=[]\n",
    "                            temp3_Histroy=do_transaction_history(cl,nodesIdentified , startDate, endDate, contes)\n",
    "                            contes=[temp3_Histroy[0].ContinuationPoint]\n",
    "    #                        print(contes)\n",
    "                            for x in temp3_Histroy[0].HistoryData.DataValues:\n",
    "                                temp3_DateTime=x.SourceTimestamp\n",
    "                                temp3_HistoryData=x.Value.Value\n",
    "                                updateTemperatureData(temp,temp3_DateTime,temp3_HistoryData)\n",
    "                                updateDateTimeforMacId(temp,temp3,temp3_DateTime)\n",
    "                            more_data = temp3_Histroy[0].StatusCode.is_good() and temp3_Histroy[0].ContinuationPoint is not None\n",
    "                            \n",
    "                            ## can delete following two conditions\n",
    "                            if not temp3_Histroy[0].StatusCode.is_good():\n",
    "                                print('Status Code Was Not Good !!')\n",
    "                                \n",
    "                    except :\n",
    "                        print('Error in macId=',temp, ' while getting ', temp3)\n",
    "                        logging.warning('Error in macId=%s',temp)\n"
   ]
  },
  {
   "cell_type": "code",
   "execution_count": null,
   "metadata": {},
   "outputs": [],
   "source": []
  }
 ],
 "metadata": {
  "kernelspec": {
   "display_name": "Python 3",
   "language": "python",
   "name": "python3"
  },
  "language_info": {
   "codemirror_mode": {
    "name": "ipython",
    "version": 3
   },
   "file_extension": ".py",
   "mimetype": "text/x-python",
   "name": "python",
   "nbconvert_exporter": "python",
   "pygments_lexer": "ipython3",
   "version": "3.8.5"
  }
 },
 "nbformat": 4,
 "nbformat_minor": 4
}
