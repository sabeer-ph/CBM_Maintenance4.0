{
 "cells": [
  {
   "cell_type": "code",
   "execution_count": 4,
   "metadata": {},
   "outputs": [],
   "source": [
    "import pandas as pd\n",
    "import os"
   ]
  },
  {
   "cell_type": "markdown",
   "metadata": {},
   "source": [
    "### one sensor : 2ecee8fd   no tray"
   ]
  },
  {
   "cell_type": "code",
   "execution_count": 1,
   "metadata": {},
   "outputs": [],
   "source": [
    "## 4c:92:10:8c  101.CA.DTL.01.1-210\n",
    "\n",
    "## 84:e1:93:bd  101.CA.DTL.01.1-310\n"
   ]
  },
  {
   "cell_type": "code",
   "execution_count": null,
   "metadata": {},
   "outputs": [],
   "source": [
    "pro = pd.read_excel('./NoTray/2ecee8fd_Processed.xlsx')\n",
    "NoTray = pro.copy()"
   ]
  },
  {
   "cell_type": "code",
   "execution_count": 1,
   "metadata": {},
   "outputs": [],
   "source": [
    "col_to_order = ['Axis','peak-peak', 'rms', 'skewness','crest','kurt','variance', 'freqAmpliKurt', 'freqAmpliMax', 'freqAmpliMean',\n",
    "       'freqAmpliVar', 'freqAmpliskw', 'max_1', 'max_2', 'max_3',\n",
    "       'max_4', 'max_5', 'max_6', 'max_7', 'max_8', 'max_9','max_10', 'max_11',\n",
    "       'max_12', 'max_13', 'max_14', 'max_15', 'max_16','mean_1','mean_2', 'mean_3', 'mean_4', 'mean_5', 'mean_6', 'mean_7',\n",
    "       'mean_8', 'mean_9','mean_10', 'mean_11', 'mean_12', 'mean_13', 'mean_14', 'mean_15',\n",
    "       'mean_16' ,'var_1','var_2',\n",
    "       'var_3', 'var_4', 'var_5', 'var_6', 'var_7', 'var_8', 'var_9', 'var_10',\n",
    "       'var_11', 'var_12', 'var_13', 'var_14', 'var_15', 'var_16'\n",
    "       ]"
   ]
  },
  {
   "cell_type": "code",
   "execution_count": null,
   "metadata": {},
   "outputs": [],
   "source": [
    "data3 = pd.DataFrame()\n",
    "for i in NoTray.Axis.unique():\n",
    "    NoTray_Axis = NoTray[NoTray.Axis == i]\n",
    "    data = NoTray_Axis.describe([.01,.05,.1,.25,.5,.75,.9,.95,.99])\n",
    "    data['Axis'] = i\n",
    "    data3 = data3.append(data)\n",
    "data3[col_to_order].round(decimals=2).to_excel('No_Trays_14_sept_One_Sensor.xlsx')"
   ]
  },
  {
   "cell_type": "markdown",
   "metadata": {},
   "source": [
    "### All Sensors No Tray\n"
   ]
  },
  {
   "cell_type": "code",
   "execution_count": 2,
   "metadata": {},
   "outputs": [],
   "source": [
    "Not_needed = ['22f0a904','2a09bc17','613eaf33','be31bfc2','f49f0704'] # tilter sensors not needed"
   ]
  },
  {
   "cell_type": "code",
   "execution_count": null,
   "metadata": {},
   "outputs": [],
   "source": [
    "full_data = pd.DataFrame()\n",
    "for i in os.listdir('./NoTray_Processed'):\n",
    "    Name = i[:8]\n",
    "    if Name not in Not_needed:\n",
    "        df = pd.read_excel('./NoTray_Processed/'+i)\n",
    "        print(df.shape)\n",
    "        full_data = full_data.append(df)"
   ]
  },
  {
   "cell_type": "code",
   "execution_count": null,
   "metadata": {},
   "outputs": [],
   "source": [
    "NoTray_All = full_data.copy()"
   ]
  },
  {
   "cell_type": "code",
   "execution_count": null,
   "metadata": {},
   "outputs": [],
   "source": [
    "data4 = pd.DataFrame()\n",
    "for i in NoTray_All.Axis.unique():\n",
    "    NoTray_All_Axis = NoTray_All[NoTray_All.Axis == i]\n",
    "    data = NoTray_All_Axis.describe([.01,.05,.1,.25,.5,.75,.9,.95,.99])\n",
    "    data['Axis'] = i\n",
    "    data4 = data4.append(data)\n",
    "data4[col_to_order].round(decimals=2).to_excel('No_Trays_14_sept_all_sensors.xlsx')"
   ]
  },
  {
   "cell_type": "markdown",
   "metadata": {},
   "source": [
    "### one minute Tray Data : \n",
    "\n",
    "#### 1. One sensor 2ecee8fd"
   ]
  },
  {
   "cell_type": "code",
   "execution_count": 5,
   "metadata": {},
   "outputs": [],
   "source": [
    "pro = pd.read_excel('./Tray_Processed/2ecee8fd_Processed.xlsx')\n",
    "Tray = pro.copy()"
   ]
  },
  {
   "cell_type": "code",
   "execution_count": 6,
   "metadata": {},
   "outputs": [],
   "source": [
    "data3 = pd.DataFrame()\n",
    "for i in Tray.Axis.unique():\n",
    "    Tray_Axis = Tray[Tray.Axis == i]\n",
    "    data = Tray_Axis.describe([.01,.05,.1,.25,.5,.75,.9,.95,.99])\n",
    "    data['Axis'] = i\n",
    "    data3 = data3.append(data)\n",
    "data3[col_to_order].round(decimals=2).to_excel('Trays_15_sept_One_Sensor.xlsx')"
   ]
  },
  {
   "cell_type": "markdown",
   "metadata": {},
   "source": [
    "#### 2. all sensors tray data"
   ]
  },
  {
   "cell_type": "code",
   "execution_count": 7,
   "metadata": {},
   "outputs": [
    {
     "name": "stdout",
     "output_type": "stream",
     "text": [
      "(49, 63)\n",
      "(28, 63)\n",
      "(38, 63)\n",
      "(33, 63)\n",
      "(52, 63)\n",
      "(27, 63)\n",
      "(35, 63)\n",
      "(27, 63)\n",
      "(54, 63)\n",
      "(37, 63)\n",
      "(12, 63)\n",
      "(33, 63)\n",
      "(0, 0)\n",
      "(30, 63)\n",
      "(0, 0)\n"
     ]
    }
   ],
   "source": [
    "full_data = pd.DataFrame()\n",
    "for i in os.listdir('./Tray_Processed'):\n",
    "    Name = i[:8]\n",
    "    if Name not in Not_needed:\n",
    "        df = pd.read_excel('./Tray_Processed/'+i)\n",
    "        print(df.shape)\n",
    "        full_data = full_data.append(df)"
   ]
  },
  {
   "cell_type": "code",
   "execution_count": 8,
   "metadata": {},
   "outputs": [],
   "source": [
    "Tray_All = full_data.copy()\n",
    "data4 = pd.DataFrame()\n",
    "for i in Tray_All.Axis.unique():\n",
    "    Tray_All_Axis = Tray_All[Tray_All.Axis == i]\n",
    "    data = Tray_All_Axis.describe([.01,.05,.1,.25,.5,.75,.9,.95,.99])\n",
    "    data['Axis'] = i\n",
    "    data4 = data4.append(data)\n",
    "data4[col_to_order].round(decimals=2).to_excel('Trays_15_sept_all_sensors.xlsx')"
   ]
  },
  {
   "cell_type": "code",
   "execution_count": null,
   "metadata": {},
   "outputs": [],
   "source": []
  }
 ],
 "metadata": {
  "kernelspec": {
   "display_name": "Python 3",
   "language": "python",
   "name": "python3"
  },
  "language_info": {
   "codemirror_mode": {
    "name": "ipython",
    "version": 3
   },
   "file_extension": ".py",
   "mimetype": "text/x-python",
   "name": "python",
   "nbconvert_exporter": "python",
   "pygments_lexer": "ipython3",
   "version": "3.7.7"
  }
 },
 "nbformat": 4,
 "nbformat_minor": 4
}
