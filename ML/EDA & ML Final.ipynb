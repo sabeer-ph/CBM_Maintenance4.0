{
 "cells": [
  {
   "cell_type": "code",
   "execution_count": 31,
   "metadata": {},
   "outputs": [],
   "source": [
    "import pandas as pd\n",
    "import os\n",
    "from IPython.display import display\n",
    "import matplotlib.pyplot as plt"
   ]
  },
  {
   "cell_type": "markdown",
   "metadata": {},
   "source": [
    "### Filter conditions  \n",
    "* Axis is Y\n",
    "* max_8 <= 79.84\n",
    "* max_9 <= 76.56\n",
    "\n",
    "\n",
    "#####  74.86\t93.13  (New values) \n"
   ]
  },
  {
   "cell_type": "code",
   "execution_count": 19,
   "metadata": {},
   "outputs": [
    {
     "data": {
      "text/plain": [
       "198"
      ]
     },
     "execution_count": 19,
     "metadata": {},
     "output_type": "execute_result"
    }
   ],
   "source": [
    "alll = pd.DataFrame()\n",
    "\n",
    "for i in os.listdir('./Processed/'):\n",
    "    df = pd.read_excel('./Processed/'+i)\n",
    "    df2 = df[(df.Axis == 'Y')]\n",
    "    alll = alll.append(df2,ignore_index=True)\n",
    "(alll['Defects Introduced'] == 'No Defect_with Seven tray').sum()"
   ]
  },
  {
   "cell_type": "code",
   "execution_count": 38,
   "metadata": {},
   "outputs": [
    {
     "data": {
      "text/plain": [
       "<matplotlib.collections.PathCollection at 0x1a274209e08>"
      ]
     },
     "execution_count": 38,
     "metadata": {},
     "output_type": "execute_result"
    },
    {
     "data": {
      "image/png": "[encoded data removed]",
      "text/plain": [
       "<Figure size 432x288 with 1 Axes>"
      ]
     },
     "metadata": {
      "needs_background": "light"
     },
     "output_type": "display_data"
    }
   ],
   "source": [
    "plt.scatter(x=all_sensor_tray_check['max_8'],y=all_sensor_tray_check['max_9'])"
   ]
  },
  {
   "cell_type": "code",
   "execution_count": 20,
   "metadata": {},
   "outputs": [
    {
     "data": {
      "text/plain": [
       "125"
      ]
     },
     "execution_count": 20,
     "metadata": {},
     "output_type": "execute_result"
    }
   ],
   "source": [
    "all_sensor_filt = pd.DataFrame()\n",
    "\n",
    "for i in os.listdir('./Processed/'):\n",
    "    df = pd.read_excel('./Processed/'+i)\n",
    "    df2 = df[(df.Axis == 'Y') & (df.max_8 <= 74.86) & (df.max_9 <= 93.13)]\n",
    "    all_sensor_filt = all_sensor_filt.append(df2,ignore_index=True)\n",
    "(all_sensor_filt['Defects Introduced'] == 'No Defect_with Seven tray').sum()"
   ]
  },
  {
   "cell_type": "code",
   "execution_count": 24,
   "metadata": {},
   "outputs": [
    {
     "data": {
      "text/plain": [
       "8"
      ]
     },
     "execution_count": 24,
     "metadata": {},
     "output_type": "execute_result"
    }
   ],
   "source": [
    "all_sensor_tray_check = pd.DataFrame()\n",
    "\n",
    "for i in os.listdir('./Processed/'):\n",
    "    df = pd.read_excel('./Processed/'+i)\n",
    "    df2 = df[((df.Axis == 'Y') & (df.max_8 > 74.86) & (df.max_9 > 93.13))]\n",
    "    all_sensor_tray_check = all_sensor_tray_check.append(df2,ignore_index=True)\n",
    "(all_sensor_tray_check['Defects Introduced'] == 'No Defect_with Seven tray').sum()"
   ]
  },
  {
   "cell_type": "markdown",
   "metadata": {},
   "source": [
    "### map low,med,high values to 1,2,3 respectively"
   ]
  },
  {
   "cell_type": "code",
   "execution_count": 3,
   "metadata": {},
   "outputs": [],
   "source": [
    "# first get the columns which have low med and high values\n",
    "\n",
    "Priority_cols = []\n",
    "prio = ['low','med','high']\n",
    "\n",
    "for i in all_sensor_filt.columns:\n",
    "    if all_sensor_filt[i].dtype == 'object':\n",
    "        \n",
    "        lst = all_sensor_filt[i].str.lower().value_counts().index\n",
    "        if lst.any() in prio:\n",
    "            Priority_cols.append(i)"
   ]
  },
  {
   "cell_type": "code",
   "execution_count": 4,
   "metadata": {},
   "outputs": [],
   "source": [
    "# here we will map values med, low and high values to \n",
    "priority_change = {'low':1, 'med':2, 'high':3}\n",
    "for i in Priority_cols:\n",
    "        all_sensor_filt[i] = all_sensor_filt[i].str.lower().map(priority_change)"
   ]
  },
  {
   "cell_type": "markdown",
   "metadata": {},
   "source": [
    "### check individual col values before doing fillna"
   ]
  },
  {
   "cell_type": "code",
   "execution_count": null,
   "metadata": {},
   "outputs": [],
   "source": [
    "\n",
    "\n",
    "for i in all_sensor_filt.columns:\n",
    "    #print(all_sensor_filt[i].dtype)\n",
    "    if all_sensor_filt[i].dtype == 'object':\n",
    "        print('Column name :',i)\n",
    "        print(all_sensor_filt[i].str.lower().value_counts())\n",
    "        print()"
   ]
  },
  {
   "cell_type": "code",
   "execution_count": 5,
   "metadata": {},
   "outputs": [],
   "source": [
    "# fill all nan values to zeros\n",
    "all_sensor_filt = all_sensor_filt.fillna(0)"
   ]
  },
  {
   "cell_type": "code",
   "execution_count": null,
   "metadata": {},
   "outputs": [],
   "source": [
    "# export data to excel just to check format\n",
    "\n",
    "#all_sensor_filt.to_excel('processed-test.xlsx')\n",
    "\n",
    "#all_sensor_filt[all_sensor_filt['Defects Introduced'] == 'No Defect_with Seven tray']\n",
    "\n",
    "#all_sensor_filt[all_sensor_filt['Defects Introduced'] == 'No Defect_with Seven tray'][['max_8','max_9']].to_excel('max_89.xlsx')"
   ]
  },
  {
   "cell_type": "code",
   "execution_count": 6,
   "metadata": {},
   "outputs": [],
   "source": [
    "final_data = all_sensor_filt[['Asset_Id', 'Axis', 'Belt-Belt', 'Belts', 'Data_pull_time',\n",
    "       'Defects Introduced', 'Drive Station', 'DriveShaft-Bearing',\n",
    "       'DriveShaft-Cardan shaft', 'DriveShaft-Damper Bush\\'',\n",
    "       'DriveShaft-Drive Motor', 'DriveShaft-Drive Shaft', 'Mac_Id', 'Remarks',\n",
    "       'Roller_Wheels-Inner Trunk Roller', 'Roller_Wheels-RW Wheels',\n",
    "       'Roller_Wheels-Upper Trunk Roller', 'Rollers/Wheels', 'Sensor_Loc',\n",
    "       'Slave shafts', 'SlaveShaft- Shaft', 'SlaveShaft-Bearing',\n",
    "       'SlaveShaft-Remarks2', 'SlaveShaft-Wheels', 'Tension Station',\n",
    "       'TensionUnit-RW-Bearing', 'TensionUnit-Tension Shaft / Unit',\n",
    "       'TensionUnit-Tension Spring', 'Test Condition']]"
   ]
  },
  {
   "cell_type": "code",
   "execution_count": 9,
   "metadata": {},
   "outputs": [
    {
     "data": {
      "text/html": [
       "<div>\n",
       "<style scoped>\n",
       "    .dataframe tbody tr th:only-of-type {\n",
       "        vertical-align: middle;\n",
       "    }\n",
       "\n",
       "    .dataframe tbody tr th {\n",
       "        vertical-align: top;\n",
       "    }\n",
       "\n",
       "    .dataframe thead th {\n",
       "        text-align: right;\n",
       "    }\n",
       "</style>\n",
       "<table border=\"1\" class=\"dataframe\">\n",
       "  <thead>\n",
       "    <tr style=\"text-align: right;\">\n",
       "      <th></th>\n",
       "      <th>max_8</th>\n",
       "      <th>max_9</th>\n",
       "    </tr>\n",
       "  </thead>\n",
       "  <tbody>\n",
       "    <tr>\n",
       "      <th>19</th>\n",
       "      <td>86.653466</td>\n",
       "      <td>120.289360</td>\n",
       "    </tr>\n",
       "    <tr>\n",
       "      <th>29</th>\n",
       "      <td>92.596818</td>\n",
       "      <td>93.830538</td>\n",
       "    </tr>\n",
       "    <tr>\n",
       "      <th>22</th>\n",
       "      <td>106.216672</td>\n",
       "      <td>121.217753</td>\n",
       "    </tr>\n",
       "    <tr>\n",
       "      <th>28</th>\n",
       "      <td>107.196830</td>\n",
       "      <td>98.974654</td>\n",
       "    </tr>\n",
       "    <tr>\n",
       "      <th>20</th>\n",
       "      <td>128.169821</td>\n",
       "      <td>127.869552</td>\n",
       "    </tr>\n",
       "    <tr>\n",
       "      <th>21</th>\n",
       "      <td>137.743022</td>\n",
       "      <td>109.074766</td>\n",
       "    </tr>\n",
       "    <tr>\n",
       "      <th>17</th>\n",
       "      <td>208.502227</td>\n",
       "      <td>220.618861</td>\n",
       "    </tr>\n",
       "  </tbody>\n",
       "</table>\n",
       "</div>"
      ],
      "text/plain": [
       "         max_8       max_9\n",
       "19   86.653466  120.289360\n",
       "29   92.596818   93.830538\n",
       "22  106.216672  121.217753\n",
       "28  107.196830   98.974654\n",
       "20  128.169821  127.869552\n",
       "21  137.743022  109.074766\n",
       "17  208.502227  220.618861"
      ]
     },
     "execution_count": 9,
     "metadata": {},
     "output_type": "execute_result"
    }
   ],
   "source": [
    "final_data.shape\n",
    "\n",
    "\n",
    "test_Data = all_sensor_tray_check[all_sensor_tray_check.Sensor_Loc == 'MET_EDT']\n",
    "test_Data[test_Data['Defects Introduced'] == 'No Defect_with Seven tray'][['max_8','max_9']].sort_values(by='max_8')"
   ]
  },
  {
   "cell_type": "markdown",
   "metadata": {},
   "source": [
    "### Standerize - we will use minmaxscaler"
   ]
  },
  {
   "cell_type": "code",
   "execution_count": null,
   "metadata": {},
   "outputs": [],
   "source": [
    "from sklearn.preprocessing import MinMaxScaler"
   ]
  },
  {
   "cell_type": "code",
   "execution_count": null,
   "metadata": {},
   "outputs": [],
   "source": [
    "mms = MinMaxScaler()"
   ]
  },
  {
   "cell_type": "code",
   "execution_count": null,
   "metadata": {},
   "outputs": [],
   "source": [
    "scaled_data = mms.fit_transform(all_sensor_filt.loc[:,'crest':'variance'])"
   ]
  },
  {
   "cell_type": "code",
   "execution_count": null,
   "metadata": {},
   "outputs": [],
   "source": [
    "scaled_df = pd.DataFrame(scaled_data,columns=['crest',\n",
    "       'freqAmpliKurt', 'freqAmpliMax', 'freqAmpliMean', 'freqAmpliVar',\n",
    "       'freqAmpliskw', 'kurt', 'max_1', 'max_10', 'max_11', 'max_12', 'max_13',\n",
    "       'max_14', 'max_15', 'max_16', 'max_2', 'max_3', 'max_4', 'max_5',\n",
    "       'max_6', 'max_7', 'max_8', 'max_9', 'mean', 'mean_1', 'mean_10',\n",
    "       'mean_11', 'mean_12', 'mean_13', 'mean_14', 'mean_15', 'mean_16',\n",
    "       'mean_2', 'mean_3', 'mean_4', 'mean_5', 'mean_6', 'mean_7', 'mean_8',\n",
    "       'mean_9', 'peak-peak', 'rms', 'skewness', 'var_1', 'var_10', 'var_11',\n",
    "       'var_12', 'var_13', 'var_14', 'var_15', 'var_16', 'var_2', 'var_3',\n",
    "       'var_4', 'var_5', 'var_6', 'var_7', 'var_8', 'var_9', 'variance'])"
   ]
  },
  {
   "cell_type": "code",
   "execution_count": null,
   "metadata": {},
   "outputs": [],
   "source": [
    "merged_data = pd.concat([final_data,scaled_df],axis=1)"
   ]
  },
  {
   "cell_type": "markdown",
   "metadata": {},
   "source": [
    "###### considering metering MET_EDT positions for now"
   ]
  },
  {
   "cell_type": "code",
   "execution_count": null,
   "metadata": {},
   "outputs": [],
   "source": [
    "Met_Data = merged_data[merged_data.Sensor_Loc == 'MET_EDT']\n",
    "#Met_Data.head()"
   ]
  },
  {
   "cell_type": "code",
   "execution_count": null,
   "metadata": {},
   "outputs": [],
   "source": [
    "(Met_Data['Defects Introduced'] == 'No Defect_with Seven tray').sum()"
   ]
  },
  {
   "cell_type": "code",
   "execution_count": null,
   "metadata": {},
   "outputs": [],
   "source": [
    "Met_Data[Met_Data['Defects Introduced'] == 'No Defect_with Seven tray'][['max_8','max_9']]"
   ]
  },
  {
   "cell_type": "code",
   "execution_count": null,
   "metadata": {},
   "outputs": [],
   "source": []
  },
  {
   "cell_type": "code",
   "execution_count": null,
   "metadata": {},
   "outputs": [],
   "source": [
    "tray_check = pd.DataFrame()\n",
    "\n",
    "for i in os.listdir('./Processed/'):\n",
    "    df = pd.read_excel('./Processed/'+i)\n",
    "    df2 = df[(df.Axis == 'Y')  & (df.max_8 <= 79.84) & (df.max_9 <= 76.56) & (df.Sensor_Loc == 'MET_EDT')]\n",
    "    tray_check = tray_check.append(df2,ignore_index=True)"
   ]
  },
  {
   "cell_type": "code",
   "execution_count": null,
   "metadata": {},
   "outputs": [],
   "source": [
    "tray_check[tray_check['Defects Introduced'] == 'No Defect_with Seven tray'][['Asset_Id','Mac_Id','max_8','max_9']].to_excel('max_89_new.xlsx')"
   ]
  },
  {
   "cell_type": "code",
   "execution_count": null,
   "metadata": {},
   "outputs": [],
   "source": [
    "tray_check.shape"
   ]
  },
  {
   "cell_type": "code",
   "execution_count": null,
   "metadata": {},
   "outputs": [],
   "source": [
    "for i in Priority_cols:\n",
    "    print('Column name :',i)\n",
    "    print(all_sensor_filt[i].value_counts())\n",
    "    print()"
   ]
  },
  {
   "cell_type": "code",
   "execution_count": null,
   "metadata": {},
   "outputs": [],
   "source": [
    "for i in all_sensor_filt.columns[6:]:\n",
    "    if all_sensor_filt[i].dtype == 'object':\n",
    "        print('Column name :',i)\n",
    "        all_sensor_filt[i] = all_sensor_filt[i].str.lower().map(priority_change)\n",
    "        "
   ]
  },
  {
   "cell_type": "code",
   "execution_count": null,
   "metadata": {},
   "outputs": [],
   "source": [
    "data = pd.read_excel('./Processed/299cfe16_Processed.xlsx')"
   ]
  },
  {
   "cell_type": "code",
   "execution_count": null,
   "metadata": {},
   "outputs": [],
   "source": [
    "all_sensor_filt['Drive Station'].value_counts()"
   ]
  },
  {
   "cell_type": "code",
   "execution_count": null,
   "metadata": {},
   "outputs": [],
   "source": [
    "all_sensor_filt.loc[:3,['Mac_Id', 'Remarks',\n",
    "       'Roller_Wheels-Inner Trunk Roller', 'Roller_Wheels-RW Wheels']]"
   ]
  },
  {
   "cell_type": "code",
   "execution_count": null,
   "metadata": {},
   "outputs": [],
   "source": [
    "all_sensor_filt.columns"
   ]
  },
  {
   "cell_type": "code",
   "execution_count": null,
   "metadata": {},
   "outputs": [],
   "source": [
    "all_sensor_filt.Mac_Id.value_counts()"
   ]
  },
  {
   "cell_type": "code",
   "execution_count": null,
   "metadata": {},
   "outputs": [],
   "source": [
    "for i in all_sensor_filt.columns:\n",
    "    if all_sensor_filt[i].dtype == 'object':\n",
    "        print('Column name :',i)\n",
    "        print(all_sensor_filt[i].str.lower().value_counts().index)\n",
    "        print()"
   ]
  },
  {
   "cell_type": "code",
   "execution_count": null,
   "metadata": {},
   "outputs": [],
   "source": [
    "final_data"
   ]
  }
 ],
 "metadata": {
  "kernelspec": {
   "display_name": "Python 3",
   "language": "python",
   "name": "python3"
  },
  "language_info": {
   "codemirror_mode": {
    "name": "ipython",
    "version": 3
   },
   "file_extension": ".py",
   "mimetype": "text/x-python",
   "name": "python",
   "nbconvert_exporter": "python",
   "pygments_lexer": "ipython3",
   "version": "3.8.5"
  }
 },
 "nbformat": 4,
 "nbformat_minor": 4
}
