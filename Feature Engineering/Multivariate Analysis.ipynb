{
 "cells": [
  {
   "cell_type": "markdown",
   "metadata": {},
   "source": [
    "## Importing packages:"
   ]
  },
  {
   "cell_type": "code",
   "execution_count": 1,
   "metadata": {},
   "outputs": [],
   "source": [
    "from __future__ import print_function, division  # for compatibility with python 3.x\n",
    "import warnings\n",
    "warnings.filterwarnings('ignore')  # don't print out warnings"
   ]
  },
  {
   "cell_type": "code",
   "execution_count": 2,
   "metadata": {},
   "outputs": [],
   "source": [
    "import pandas as pd\n",
    "import numpy as np\n",
    "import scipy.stats as stats\n",
    "import matplotlib.pyplot as plt\n",
    "#import seaborn as sns"
   ]
  },
  {
   "cell_type": "code",
   "execution_count": 3,
   "metadata": {},
   "outputs": [],
   "source": [
    "from statsmodels.multivariate.manova import MANOVA\n",
    "from statsmodels.formula.api import ols\n",
    "from statsmodels.stats.anova import anova_lm\n",
    "\n",
    "from sklearn.preprocessing import scale\n",
    "from sklearn.decomposition import PCA\n",
    "from sklearn.discriminant_analysis import LinearDiscriminantAnalysis"
   ]
  },
  {
   "cell_type": "code",
   "execution_count": 4,
   "metadata": {},
   "outputs": [],
   "source": [
    "# File from processed vibration data notebook (raw-data-processing(sabeer,vishal 12Aug2020).ipynb)\n",
    "df = pd.read_excel(r'C:\\Users\\husssabe\\Desktop\\Projects\\Maintenance 4.0\\TestLoop\\ProcessedDataFeaturesandFFT.xlsx',header=0)\n",
    "#df=pd.read_excel(r'C:\\_WorkDir\\PythonProj\\IT Analysis\\Testloop\\VibExtraction\\Output\\ProcessedVibMatrices.xlsx')"
   ]
  },
  {
   "cell_type": "code",
   "execution_count": 5,
   "metadata": {},
   "outputs": [
    {
     "data": {
      "text/plain": [
       "Index(['Unnamed: 0', 'Asset_Id', 'Axis', 'Data_pull_time', 'Defect_Introduced',\n",
       "       'Mac_Id', 'Sensor_Loc', 'crest', 'freqAmpliKurt', 'freqAmpliMax',\n",
       "       'freqAmpliMean', 'freqAmpliVar', 'freqAmpliskw', 'kurt', 'max_1',\n",
       "       'max_2', 'max_3', 'max_4', 'max_5', 'max_6', 'max_7', 'max_8', 'mean',\n",
       "       'mean_1', 'mean_2', 'mean_3', 'mean_4', 'mean_5', 'mean_6', 'mean_7',\n",
       "       'mean_8', 'peak-peak', 'rms', 'skewness', 'var_1', 'var_2', 'var_3',\n",
       "       'var_4', 'var_5', 'var_6', 'var_7', 'var_8', 'variance'],\n",
       "      dtype='object')"
      ]
     },
     "execution_count": 5,
     "metadata": {},
     "output_type": "execute_result"
    }
   ],
   "source": [
    "df.columns"
   ]
  },
  {
   "cell_type": "code",
   "execution_count": 6,
   "metadata": {},
   "outputs": [],
   "source": [
    "df=df.drop(columns=['Unnamed: 0'],axis=1)\n"
   ]
  },
  {
   "cell_type": "code",
   "execution_count": 7,
   "metadata": {},
   "outputs": [],
   "source": [
    "df=df.reset_index()"
   ]
  },
  {
   "cell_type": "code",
   "execution_count": 8,
   "metadata": {},
   "outputs": [
    {
     "name": "stdout",
     "output_type": "stream",
     "text": [
      "<class 'pandas.core.frame.DataFrame'>\n",
      "RangeIndex: 2075 entries, 0 to 2074\n",
      "Data columns (total 43 columns):\n",
      " #   Column             Non-Null Count  Dtype         \n",
      "---  ------             --------------  -----         \n",
      " 0   index              2075 non-null   int64         \n",
      " 1   Asset_Id           2075 non-null   category      \n",
      " 2   Axis               2075 non-null   category      \n",
      " 3   Data_pull_time     2075 non-null   datetime64[ns]\n",
      " 4   Defect_Introduced  2075 non-null   category      \n",
      " 5   Mac_Id             2075 non-null   category      \n",
      " 6   Sensor_Loc         2075 non-null   category      \n",
      " 7   crest              2075 non-null   float64       \n",
      " 8   freqAmpliKurt      2075 non-null   float64       \n",
      " 9   freqAmpliMax       2075 non-null   float64       \n",
      " 10  freqAmpliMean      2075 non-null   float64       \n",
      " 11  freqAmpliVar       2075 non-null   float64       \n",
      " 12  freqAmpliskw       2075 non-null   float64       \n",
      " 13  kurt               2075 non-null   float64       \n",
      " 14  max_1              2075 non-null   float64       \n",
      " 15  max_2              2075 non-null   float64       \n",
      " 16  max_3              2075 non-null   float64       \n",
      " 17  max_4              2075 non-null   float64       \n",
      " 18  max_5              2075 non-null   float64       \n",
      " 19  max_6              2075 non-null   float64       \n",
      " 20  max_7              2075 non-null   float64       \n",
      " 21  max_8              2075 non-null   float64       \n",
      " 22  mean               2075 non-null   float64       \n",
      " 23  mean_1             2075 non-null   float64       \n",
      " 24  mean_2             2075 non-null   float64       \n",
      " 25  mean_3             2075 non-null   float64       \n",
      " 26  mean_4             2075 non-null   float64       \n",
      " 27  mean_5             2075 non-null   float64       \n",
      " 28  mean_6             2075 non-null   float64       \n",
      " 29  mean_7             2075 non-null   float64       \n",
      " 30  mean_8             2075 non-null   float64       \n",
      " 31  peak-peak          2075 non-null   float64       \n",
      " 32  rms                2075 non-null   float64       \n",
      " 33  skewness           2075 non-null   float64       \n",
      " 34  var_1              2075 non-null   float64       \n",
      " 35  var_2              2075 non-null   float64       \n",
      " 36  var_3              2075 non-null   float64       \n",
      " 37  var_4              2075 non-null   float64       \n",
      " 38  var_5              2075 non-null   float64       \n",
      " 39  var_6              2075 non-null   float64       \n",
      " 40  var_7              2075 non-null   float64       \n",
      " 41  var_8              2075 non-null   float64       \n",
      " 42  variance           2075 non-null   float64       \n",
      "dtypes: category(5), datetime64[ns](1), float64(36), int64(1)\n",
      "memory usage: 627.7 KB\n"
     ]
    }
   ],
   "source": [
    "for col in df.columns:\n",
    "    if df[col].dtype==object:\n",
    "        df[col]=df[col].astype('category')\n",
    "        \n",
    "df.info()"
   ]
  },
  {
   "cell_type": "code",
   "execution_count": 9,
   "metadata": {},
   "outputs": [
    {
     "data": {
      "text/plain": [
       "No Defect_No Load                                    616\n",
       "No Defect_Empty Tray                                 383\n",
       "No Defect_with no tray                               278\n",
       "Decline-Non Drive Side Tesnion unit faulty bea...    173\n",
       "non drive side faulty bearing was introduced_w...    160\n",
       "slight wobbling in the motor_Empty Tray              120\n",
       "Slight Wobling in the motor                          117\n",
       "Non Drive side faulty bearing was introduced -...    114\n",
       "Belt showing signs of wear and tear, slight wo...     54\n",
       "slight wobbling in the motor_with no tray             45\n",
       "slight wobbling in the motor_No Load                  15\n",
       "Name: Defect_Introduced, dtype: int64"
      ]
     },
     "execution_count": 9,
     "metadata": {},
     "output_type": "execute_result"
    }
   ],
   "source": [
    "df.Defect_Introduced.value_counts()"
   ]
  },
  {
   "cell_type": "code",
   "execution_count": 10,
   "metadata": {},
   "outputs": [
    {
     "data": {
      "text/plain": [
       "101.CA.DTL.01.1-050    637\n",
       "101.CA.DTL.01.1-200    450\n",
       "101.CA.DTL.01.1-210    351\n",
       "101.CA.DTL.01.1-040    207\n",
       "101.CA.DTL.01.1-020    173\n",
       "101.CA.DTL.01.1-330    160\n",
       "101.CA.DTL.01.1-310     97\n",
       "Name: Asset_Id, dtype: int64"
      ]
     },
     "execution_count": 10,
     "metadata": {},
     "output_type": "execute_result"
    }
   ],
   "source": [
    "df.Asset_Id.value_counts()"
   ]
  },
  {
   "cell_type": "code",
   "execution_count": 11,
   "metadata": {},
   "outputs": [
    {
     "data": {
      "text/plain": [
       "MET_EDT    949\n",
       "MET_TST    471\n",
       "MET-EDT    333\n",
       "MET_TUR    124\n",
       "MET_TUL     69\n",
       "MET_DSF     36\n",
       "MET_CFL     33\n",
       "MET_DUR     32\n",
       "MET_DUL     18\n",
       "MET_CFR     10\n",
       "Name: Sensor_Loc, dtype: int64"
      ]
     },
     "execution_count": 11,
     "metadata": {},
     "output_type": "execute_result"
    }
   ],
   "source": [
    "df.Sensor_Loc.value_counts()"
   ]
  },
  {
   "cell_type": "code",
   "execution_count": 13,
   "metadata": {},
   "outputs": [
    {
     "name": "stdout",
     "output_type": "stream",
     "text": [
      "<class 'pandas.core.frame.DataFrame'>\n",
      "Int64Index: 949 entries, 223 to 2074\n",
      "Data columns (total 43 columns):\n",
      " #   Column             Non-Null Count  Dtype         \n",
      "---  ------             --------------  -----         \n",
      " 0   index              949 non-null    int64         \n",
      " 1   Asset_Id           949 non-null    category      \n",
      " 2   Axis               949 non-null    category      \n",
      " 3   Data_pull_time     949 non-null    datetime64[ns]\n",
      " 4   Defect_Introduced  949 non-null    category      \n",
      " 5   Mac_Id             949 non-null    category      \n",
      " 6   Sensor_Loc         949 non-null    category      \n",
      " 7   crest              949 non-null    float64       \n",
      " 8   freqAmpliKurt      949 non-null    float64       \n",
      " 9   freqAmpliMax       949 non-null    float64       \n",
      " 10  freqAmpliMean      949 non-null    float64       \n",
      " 11  freqAmpliVar       949 non-null    float64       \n",
      " 12  freqAmpliskw       949 non-null    float64       \n",
      " 13  kurt               949 non-null    float64       \n",
      " 14  max_1              949 non-null    float64       \n",
      " 15  max_2              949 non-null    float64       \n",
      " 16  max_3              949 non-null    float64       \n",
      " 17  max_4              949 non-null    float64       \n",
      " 18  max_5              949 non-null    float64       \n",
      " 19  max_6              949 non-null    float64       \n",
      " 20  max_7              949 non-null    float64       \n",
      " 21  max_8              949 non-null    float64       \n",
      " 22  mean               949 non-null    float64       \n",
      " 23  mean_1             949 non-null    float64       \n",
      " 24  mean_2             949 non-null    float64       \n",
      " 25  mean_3             949 non-null    float64       \n",
      " 26  mean_4             949 non-null    float64       \n",
      " 27  mean_5             949 non-null    float64       \n",
      " 28  mean_6             949 non-null    float64       \n",
      " 29  mean_7             949 non-null    float64       \n",
      " 30  mean_8             949 non-null    float64       \n",
      " 31  peak-peak          949 non-null    float64       \n",
      " 32  rms                949 non-null    float64       \n",
      " 33  skewness           949 non-null    float64       \n",
      " 34  var_1              949 non-null    float64       \n",
      " 35  var_2              949 non-null    float64       \n",
      " 36  var_3              949 non-null    float64       \n",
      " 37  var_4              949 non-null    float64       \n",
      " 38  var_5              949 non-null    float64       \n",
      " 39  var_6              949 non-null    float64       \n",
      " 40  var_7              949 non-null    float64       \n",
      " 41  var_8              949 non-null    float64       \n",
      " 42  variance           949 non-null    float64       \n",
      "dtypes: category(5), datetime64[ns](1), float64(36), int64(1)\n",
      "memory usage: 295.2 KB\n"
     ]
    }
   ],
   "source": [
    "dfedt=df[df.Sensor_Loc.isin(['MET_EDT','MET_EDT'])]\n",
    "dfedt.head()\n",
    "dfedt.info()"
   ]
  },
  {
   "cell_type": "code",
   "execution_count": 14,
   "metadata": {},
   "outputs": [],
   "source": [
    "#dfedtc=df.loc[df.Asset_Id.isin(['101.CA.DTL.01.1-020','101.CA.DTL.01.1-200'])]\n",
    "#dfedtc=df.loc[df.Asset_Id.isin(['101.CA.DTL.01.1-020'])]\n",
    "#dfedtc=df.loc[df.Asset_Id=='101.CA.DTL.01.1-020']\n",
    "#dfedtc=df.query('Asset_Id==\"101.CA.DTL.01.1-020\"')\n",
    "#dfedtc.info()"
   ]
  },
  {
   "cell_type": "code",
   "execution_count": 15,
   "metadata": {},
   "outputs": [
    {
     "data": {
      "text/html": [
       "<div>\n",
       "<style scoped>\n",
       "    .dataframe tbody tr th:only-of-type {\n",
       "        vertical-align: middle;\n",
       "    }\n",
       "\n",
       "    .dataframe tbody tr th {\n",
       "        vertical-align: top;\n",
       "    }\n",
       "\n",
       "    .dataframe thead th {\n",
       "        text-align: right;\n",
       "    }\n",
       "</style>\n",
       "<table border=\"1\" class=\"dataframe\">\n",
       "  <thead>\n",
       "    <tr style=\"text-align: right;\">\n",
       "      <th></th>\n",
       "      <th>index</th>\n",
       "      <th>Asset_Id</th>\n",
       "      <th>Axis</th>\n",
       "      <th>Data_pull_time</th>\n",
       "      <th>Defect_Introduced</th>\n",
       "      <th>Mac_Id</th>\n",
       "      <th>Sensor_Loc</th>\n",
       "      <th>crest</th>\n",
       "      <th>freqAmpliKurt</th>\n",
       "      <th>freqAmpliMax</th>\n",
       "      <th>...</th>\n",
       "      <th>skewness</th>\n",
       "      <th>var_1</th>\n",
       "      <th>var_2</th>\n",
       "      <th>var_3</th>\n",
       "      <th>var_4</th>\n",
       "      <th>var_5</th>\n",
       "      <th>var_6</th>\n",
       "      <th>var_7</th>\n",
       "      <th>var_8</th>\n",
       "      <th>variance</th>\n",
       "    </tr>\n",
       "  </thead>\n",
       "  <tbody>\n",
       "    <tr>\n",
       "      <th>223</th>\n",
       "      <td>223</td>\n",
       "      <td>101.CA.DTL.01.1-050</td>\n",
       "      <td>X</td>\n",
       "      <td>2020-07-21 12:37:43</td>\n",
       "      <td>No Defect_Empty Tray</td>\n",
       "      <td>29:9c:fe:16</td>\n",
       "      <td>MET_EDT</td>\n",
       "      <td>17.692794</td>\n",
       "      <td>13.104953</td>\n",
       "      <td>102.389972</td>\n",
       "      <td>...</td>\n",
       "      <td>0.260243</td>\n",
       "      <td>458.382383</td>\n",
       "      <td>130.516519</td>\n",
       "      <td>148.652834</td>\n",
       "      <td>85.562790</td>\n",
       "      <td>78.334326</td>\n",
       "      <td>49.546852</td>\n",
       "      <td>104.145603</td>\n",
       "      <td>49.245669</td>\n",
       "      <td>0.054294</td>\n",
       "    </tr>\n",
       "    <tr>\n",
       "      <th>224</th>\n",
       "      <td>224</td>\n",
       "      <td>101.CA.DTL.01.1-050</td>\n",
       "      <td>X</td>\n",
       "      <td>2020-07-21 13:32:32</td>\n",
       "      <td>No Defect_Empty Tray</td>\n",
       "      <td>29:9c:fe:16</td>\n",
       "      <td>MET_EDT</td>\n",
       "      <td>6.550334</td>\n",
       "      <td>36.088744</td>\n",
       "      <td>125.279978</td>\n",
       "      <td>...</td>\n",
       "      <td>0.013241</td>\n",
       "      <td>104.604739</td>\n",
       "      <td>177.722643</td>\n",
       "      <td>375.606772</td>\n",
       "      <td>114.221710</td>\n",
       "      <td>31.538522</td>\n",
       "      <td>38.286608</td>\n",
       "      <td>9.358293</td>\n",
       "      <td>158.447675</td>\n",
       "      <td>0.038136</td>\n",
       "    </tr>\n",
       "    <tr>\n",
       "      <th>225</th>\n",
       "      <td>225</td>\n",
       "      <td>101.CA.DTL.01.1-050</td>\n",
       "      <td>X</td>\n",
       "      <td>2020-07-21 13:49:25</td>\n",
       "      <td>No Defect_Empty Tray</td>\n",
       "      <td>29:9c:fe:16</td>\n",
       "      <td>MET_EDT</td>\n",
       "      <td>5.147500</td>\n",
       "      <td>90.016390</td>\n",
       "      <td>214.603791</td>\n",
       "      <td>...</td>\n",
       "      <td>-0.015044</td>\n",
       "      <td>76.951279</td>\n",
       "      <td>178.837577</td>\n",
       "      <td>515.690654</td>\n",
       "      <td>121.555973</td>\n",
       "      <td>48.554712</td>\n",
       "      <td>34.877534</td>\n",
       "      <td>10.868388</td>\n",
       "      <td>156.264216</td>\n",
       "      <td>0.041601</td>\n",
       "    </tr>\n",
       "    <tr>\n",
       "      <th>226</th>\n",
       "      <td>226</td>\n",
       "      <td>101.CA.DTL.01.1-050</td>\n",
       "      <td>X</td>\n",
       "      <td>2020-07-21 14:15:48</td>\n",
       "      <td>No Defect_Empty Tray</td>\n",
       "      <td>29:9c:fe:16</td>\n",
       "      <td>MET_EDT</td>\n",
       "      <td>6.142973</td>\n",
       "      <td>38.604170</td>\n",
       "      <td>188.883617</td>\n",
       "      <td>...</td>\n",
       "      <td>-0.114612</td>\n",
       "      <td>221.827532</td>\n",
       "      <td>148.266681</td>\n",
       "      <td>1264.315215</td>\n",
       "      <td>241.608089</td>\n",
       "      <td>41.393605</td>\n",
       "      <td>69.416401</td>\n",
       "      <td>20.307308</td>\n",
       "      <td>99.034283</td>\n",
       "      <td>0.076713</td>\n",
       "    </tr>\n",
       "    <tr>\n",
       "      <th>227</th>\n",
       "      <td>227</td>\n",
       "      <td>101.CA.DTL.01.1-050</td>\n",
       "      <td>X</td>\n",
       "      <td>2020-07-21 15:06:27</td>\n",
       "      <td>No Defect_Empty Tray</td>\n",
       "      <td>29:9c:fe:16</td>\n",
       "      <td>MET_EDT</td>\n",
       "      <td>4.920943</td>\n",
       "      <td>30.354636</td>\n",
       "      <td>182.508059</td>\n",
       "      <td>...</td>\n",
       "      <td>0.054166</td>\n",
       "      <td>238.830572</td>\n",
       "      <td>160.239836</td>\n",
       "      <td>1044.433799</td>\n",
       "      <td>290.990351</td>\n",
       "      <td>37.595005</td>\n",
       "      <td>45.592705</td>\n",
       "      <td>14.799536</td>\n",
       "      <td>82.720978</td>\n",
       "      <td>0.074345</td>\n",
       "    </tr>\n",
       "  </tbody>\n",
       "</table>\n",
       "<p>5 rows × 43 columns</p>\n",
       "</div>"
      ],
      "text/plain": [
       "     index             Asset_Id Axis      Data_pull_time  \\\n",
       "223    223  101.CA.DTL.01.1-050    X 2020-07-21 12:37:43   \n",
       "224    224  101.CA.DTL.01.1-050    X 2020-07-21 13:32:32   \n",
       "225    225  101.CA.DTL.01.1-050    X 2020-07-21 13:49:25   \n",
       "226    226  101.CA.DTL.01.1-050    X 2020-07-21 14:15:48   \n",
       "227    227  101.CA.DTL.01.1-050    X 2020-07-21 15:06:27   \n",
       "\n",
       "        Defect_Introduced       Mac_Id Sensor_Loc      crest  freqAmpliKurt  \\\n",
       "223  No Defect_Empty Tray  29:9c:fe:16    MET_EDT  17.692794      13.104953   \n",
       "224  No Defect_Empty Tray  29:9c:fe:16    MET_EDT   6.550334      36.088744   \n",
       "225  No Defect_Empty Tray  29:9c:fe:16    MET_EDT   5.147500      90.016390   \n",
       "226  No Defect_Empty Tray  29:9c:fe:16    MET_EDT   6.142973      38.604170   \n",
       "227  No Defect_Empty Tray  29:9c:fe:16    MET_EDT   4.920943      30.354636   \n",
       "\n",
       "     freqAmpliMax  ...  skewness       var_1       var_2        var_3  \\\n",
       "223    102.389972  ...  0.260243  458.382383  130.516519   148.652834   \n",
       "224    125.279978  ...  0.013241  104.604739  177.722643   375.606772   \n",
       "225    214.603791  ... -0.015044   76.951279  178.837577   515.690654   \n",
       "226    188.883617  ... -0.114612  221.827532  148.266681  1264.315215   \n",
       "227    182.508059  ...  0.054166  238.830572  160.239836  1044.433799   \n",
       "\n",
       "          var_4      var_5      var_6       var_7       var_8  variance  \n",
       "223   85.562790  78.334326  49.546852  104.145603   49.245669  0.054294  \n",
       "224  114.221710  31.538522  38.286608    9.358293  158.447675  0.038136  \n",
       "225  121.555973  48.554712  34.877534   10.868388  156.264216  0.041601  \n",
       "226  241.608089  41.393605  69.416401   20.307308   99.034283  0.076713  \n",
       "227  290.990351  37.595005  45.592705   14.799536   82.720978  0.074345  \n",
       "\n",
       "[5 rows x 43 columns]"
      ]
     },
     "execution_count": 15,
     "metadata": {},
     "output_type": "execute_result"
    }
   ],
   "source": [
    "dfedt.head()"
   ]
  },
  {
   "cell_type": "code",
   "execution_count": 16,
   "metadata": {},
   "outputs": [
    {
     "data": {
      "text/html": [
       "<div>\n",
       "<style scoped>\n",
       "    .dataframe tbody tr th:only-of-type {\n",
       "        vertical-align: middle;\n",
       "    }\n",
       "\n",
       "    .dataframe tbody tr th {\n",
       "        vertical-align: top;\n",
       "    }\n",
       "\n",
       "    .dataframe thead th {\n",
       "        text-align: right;\n",
       "    }\n",
       "</style>\n",
       "<table border=\"1\" class=\"dataframe\">\n",
       "  <thead>\n",
       "    <tr style=\"text-align: right;\">\n",
       "      <th></th>\n",
       "      <th>index</th>\n",
       "      <th>Asset_Id</th>\n",
       "      <th>Axis</th>\n",
       "      <th>Data_pull_time</th>\n",
       "      <th>Defect_Introduced</th>\n",
       "      <th>Mac_Id</th>\n",
       "      <th>Sensor_Loc</th>\n",
       "      <th>crest</th>\n",
       "      <th>freqAmpliKurt</th>\n",
       "      <th>freqAmpliMax</th>\n",
       "      <th>...</th>\n",
       "      <th>skewness</th>\n",
       "      <th>var_1</th>\n",
       "      <th>var_2</th>\n",
       "      <th>var_3</th>\n",
       "      <th>var_4</th>\n",
       "      <th>var_5</th>\n",
       "      <th>var_6</th>\n",
       "      <th>var_7</th>\n",
       "      <th>var_8</th>\n",
       "      <th>variance</th>\n",
       "    </tr>\n",
       "  </thead>\n",
       "  <tbody>\n",
       "  </tbody>\n",
       "</table>\n",
       "<p>0 rows × 43 columns</p>\n",
       "</div>"
      ],
      "text/plain": [
       "Empty DataFrame\n",
       "Columns: [index, Asset_Id, Axis, Data_pull_time, Defect_Introduced, Mac_Id, Sensor_Loc, crest, freqAmpliKurt, freqAmpliMax, freqAmpliMean, freqAmpliVar, freqAmpliskw, kurt, max_1, max_2, max_3, max_4, max_5, max_6, max_7, max_8, mean, mean_1, mean_2, mean_3, mean_4, mean_5, mean_6, mean_7, mean_8, peak-peak, rms, skewness, var_1, var_2, var_3, var_4, var_5, var_6, var_7, var_8, variance]\n",
       "Index: []\n",
       "\n",
       "[0 rows x 43 columns]"
      ]
     },
     "execution_count": 16,
     "metadata": {},
     "output_type": "execute_result"
    }
   ],
   "source": [
    "dfedt[dfedt.Asset_Id=='101.CA.DTL.01.1-330']"
   ]
  },
  {
   "cell_type": "code",
   "execution_count": 17,
   "metadata": {},
   "outputs": [
    {
     "data": {
      "text/plain": [
       "101.CA.DTL.01.1-200    312\n",
       "101.CA.DTL.01.1-050    291\n",
       "101.CA.DTL.01.1-210    135\n",
       "101.CA.DTL.01.1-040    114\n",
       "101.CA.DTL.01.1-310     97\n",
       "101.CA.DTL.01.1-330      0\n",
       "101.CA.DTL.01.1-020      0\n",
       "Name: Asset_Id, dtype: int64"
      ]
     },
     "execution_count": 17,
     "metadata": {},
     "output_type": "execute_result"
    }
   ],
   "source": [
    "dfedt.Asset_Id.value_counts()"
   ]
  },
  {
   "cell_type": "code",
   "execution_count": 18,
   "metadata": {},
   "outputs": [
    {
     "data": {
      "text/plain": [
       "['101.CA.DTL.01.1-050', '101.CA.DTL.01.1-210', '101.CA.DTL.01.1-200', '101.CA.DTL.01.1-310', '101.CA.DTL.01.1-040']\n",
       "Categories (5, object): ['101.CA.DTL.01.1-050', '101.CA.DTL.01.1-210', '101.CA.DTL.01.1-200', '101.CA.DTL.01.1-310', '101.CA.DTL.01.1-040']"
      ]
     },
     "execution_count": 18,
     "metadata": {},
     "output_type": "execute_result"
    }
   ],
   "source": [
    "dfedt.Asset_Id.unique()"
   ]
  },
  {
   "cell_type": "code",
   "execution_count": 19,
   "metadata": {},
   "outputs": [
    {
     "data": {
      "text/plain": [
       "101.CA.DTL.01.1-200    312\n",
       "101.CA.DTL.01.1-050    291\n",
       "101.CA.DTL.01.1-210    135\n",
       "101.CA.DTL.01.1-040    114\n",
       "101.CA.DTL.01.1-310     97\n",
       "101.CA.DTL.01.1-330      0\n",
       "101.CA.DTL.01.1-020      0\n",
       "Name: Asset_Id, dtype: int64"
      ]
     },
     "execution_count": 19,
     "metadata": {},
     "output_type": "execute_result"
    }
   ],
   "source": [
    "test21=dfedt[dfedt.Asset_Id.isin(['101.CA.DTL.01.1-050', '101.CA.DTL.01.1-210', '101.CA.DTL.01.1-200', '101.CA.DTL.01.1-310', '101.CA.DTL.01.1-040'])]\n",
    "test21.Asset_Id.value_counts()"
   ]
  },
  {
   "cell_type": "code",
   "execution_count": 20,
   "metadata": {},
   "outputs": [
    {
     "data": {
      "text/plain": [
       "No Defect_No Load                                    393\n",
       "No Defect_Empty Tray                                 210\n",
       "Non Drive side faulty bearing was introduced -...    114\n",
       "No Defect_with no tray                                97\n",
       "slight wobbling in the motor_Empty Tray               66\n",
       "Belt showing signs of wear and tear, slight wo...     54\n",
       "slight wobbling in the motor_No Load                  15\n",
       "slight wobbling in the motor_with no tray              0\n",
       "non drive side faulty bearing was introduced_w...      0\n",
       "Slight Wobling in the motor                            0\n",
       "Decline-Non Drive Side Tesnion unit faulty bea...      0\n",
       "Name: Defect_Introduced, dtype: int64"
      ]
     },
     "execution_count": 20,
     "metadata": {},
     "output_type": "execute_result"
    }
   ],
   "source": [
    "dfedt.Defect_Introduced.value_counts()"
   ]
  },
  {
   "cell_type": "code",
   "execution_count": null,
   "metadata": {},
   "outputs": [],
   "source": [
    "# Writing to Excel\n",
    "\n",
    "writer= pd.ExcelWriter('C:\\Python\\WorkDir\\Maintenance 4.0\\TestLoop\\VibExtraction\\Output\\dfedt.xlsx',\n",
    "                       engine='xlsxwriter', datetime_format='yyyy-mm-dd HH:mm:ss')\n",
    "\n",
    "dfedt.to_excel(writer, sheet_name='test', \n",
    "                                 index = False,  header=True)\n",
    "# Close the Pandas Excel writer and output the Excel file.\n",
    "writer.save()\n",
    "# Remove DefectC and give"
   ]
  },
  {
   "cell_type": "code",
   "execution_count": null,
   "metadata": {},
   "outputs": [],
   "source": [
    "x=np.where(dfedt.Defect_Introduced.value_counts() >0)\n",
    "x"
   ]
  },
  {
   "cell_type": "code",
   "execution_count": null,
   "metadata": {},
   "outputs": [],
   "source": [
    "dfedt.boxplot(column='mean',by='Defect_Introduced',figsize=(12,6))"
   ]
  },
  {
   "cell_type": "raw",
   "metadata": {},
   "source": [
    "maov = MANOVA.from_formula('Max + Min + Mean + Std + P2P + Kurt + RMS + Var ~ Axis+ Defect_Introduced',data = df)\n",
    "print(maov.mv_test())\n"
   ]
  },
  {
   "cell_type": "code",
   "execution_count": null,
   "metadata": {},
   "outputs": [],
   "source": []
  },
  {
   "cell_type": "code",
   "execution_count": null,
   "metadata": {},
   "outputs": [],
   "source": [
    "pd.pivot_table(dfedt, index = 'Defect_Introduced',columns= 'Asset_Id',values='rms',aggfunc = 'count')"
   ]
  },
  {
   "cell_type": "code",
   "execution_count": null,
   "metadata": {},
   "outputs": [],
   "source": [
    "EDTgrouped=dfedt.loc[:,\"Defect_Introduced\":\"variance\"]\n",
    "EDTgrouped=EDTgrouped.drop(columns=['Mac_Id','Sensor_Loc'])\n",
    "EDTgrouped.head()"
   ]
  },
  {
   "cell_type": "code",
   "execution_count": null,
   "metadata": {},
   "outputs": [],
   "source": [
    "EDTgrouped.info()"
   ]
  },
  {
   "cell_type": "code",
   "execution_count": null,
   "metadata": {},
   "outputs": [],
   "source": [
    "X = EDTgrouped.loc[:,\"crest\":]  # independent variables data\n",
    "y = EDTgrouped.Defect_Introduced  # dependednt variable data\n",
    "EDTgrouped.head()"
   ]
  },
  {
   "cell_type": "markdown",
   "metadata": {},
   "source": [
    "### # Mean & std"
   ]
  },
  {
   "cell_type": "code",
   "execution_count": null,
   "metadata": {},
   "outputs": [],
   "source": [
    "X.apply(np.mean)"
   ]
  },
  {
   "cell_type": "code",
   "execution_count": null,
   "metadata": {},
   "outputs": [],
   "source": [
    "# Std Deviation\n",
    "X.apply(np.std)"
   ]
  },
  {
   "cell_type": "code",
   "execution_count": null,
   "metadata": {},
   "outputs": [],
   "source": [
    "#Mean and Std deviation by Gp\n",
    "def printMeanAndSdByGroup(variables, groupvariable):\n",
    "    data_groupby = variables.groupby(groupvariable)\n",
    "    print(\"## Means:\")\n",
    "    display(data_groupby.apply(np.mean))\n",
    "    print(\"\\n## Standard deviations:\")\n",
    "    display(data_groupby.apply(np.std))\n",
    "    print(\"\\n## Sample sizes:\")\n",
    "    display(pd.DataFrame(data_groupby.apply(len)))"
   ]
  },
  {
   "cell_type": "code",
   "execution_count": null,
   "metadata": {
    "scrolled": false
   },
   "outputs": [],
   "source": [
    "printMeanAndSdByGroup(X, y)"
   ]
  },
  {
   "cell_type": "markdown",
   "metadata": {},
   "source": [
    "### Standardisation"
   ]
  },
  {
   "cell_type": "code",
   "execution_count": null,
   "metadata": {},
   "outputs": [],
   "source": [
    "standardisedX = scale(X)\n",
    "standardisedX = pd.DataFrame(standardisedX, index=X.index, columns=X.columns)"
   ]
  },
  {
   "cell_type": "code",
   "execution_count": null,
   "metadata": {},
   "outputs": [],
   "source": [
    "standardisedX.apply(np.mean)"
   ]
  },
  {
   "cell_type": "code",
   "execution_count": null,
   "metadata": {},
   "outputs": [],
   "source": [
    "standardisedX.apply(np.std)"
   ]
  },
  {
   "cell_type": "markdown",
   "metadata": {},
   "source": [
    "### PCA"
   ]
  },
  {
   "cell_type": "code",
   "execution_count": null,
   "metadata": {},
   "outputs": [],
   "source": [
    "pca = PCA().fit(standardisedX)"
   ]
  },
  {
   "cell_type": "code",
   "execution_count": null,
   "metadata": {},
   "outputs": [],
   "source": [
    "\n",
    "def pca_summary(pca, standardised_data, out=True):\n",
    "    names = [\"PC\"+str(i) for i in range(1, len(pca.explained_variance_ratio_)+1)]\n",
    "    a = list(np.std(pca.transform(standardised_data), axis=0))\n",
    "    b = list(pca.explained_variance_ratio_)\n",
    "    c = [np.sum(pca.explained_variance_ratio_[:i]) for i in range(1, len(pca.explained_variance_ratio_)+1)]\n",
    "    columns = pd.MultiIndex.from_tuples([(\"sdev\", \"Standard deviation\"), (\"varprop\", \"Proportion of Variance\"), (\"cumprop\", \"Cumulative Proportion\")])\n",
    "    summary = pd.DataFrame(zip(a, b, c), index=names, columns=columns)\n",
    "    if out:\n",
    "        print(\"Importance of components:\")\n",
    "        display(summary)\n",
    "    return summary"
   ]
  },
  {
   "cell_type": "code",
   "execution_count": null,
   "metadata": {},
   "outputs": [],
   "source": [
    "summary = pca_summary(pca, standardisedX)"
   ]
  },
  {
   "cell_type": "code",
   "execution_count": null,
   "metadata": {},
   "outputs": [],
   "source": [
    "def screeplot(pca, standardised_values):\n",
    "    y = np.std(pca.transform(standardised_values), axis=0)**2\n",
    "    x = np.arange(len(y)) + 1\n",
    "    plt.plot(x, y, \"o-\")\n",
    "    plt.xticks(x, [\"Comp.\"+str(i) for i in x], rotation=60)\n",
    "    plt.ylabel(\"Variance\")\n",
    "    plt.show()\n",
    "\n",
    "screeplot(pca, standardisedX)"
   ]
  },
  {
   "cell_type": "code",
   "execution_count": null,
   "metadata": {},
   "outputs": [],
   "source": [
    "# Using Kaiser’s criterion: that we should only retain principal components for which the variance is above 1\n",
    "summary.sdev**2"
   ]
  },
  {
   "cell_type": "code",
   "execution_count": null,
   "metadata": {},
   "outputs": [],
   "source": [
    "def pca_scatter(pca, standardised_values, classifs):\n",
    "    foo = pca.transform(standardised_values)\n",
    "    bar = pd.DataFrame(zip(foo[:, 0], foo[:, 1], classifs), columns=[\"PC1\", \"PC2\", \"Class\"])\n",
    "    sns.lmplot(\"PC1\", \"PC2\", bar, hue=\"Class\", fit_reg=False)\n",
    "\n",
    "pca_scatter(pca, standardisedX, y)"
   ]
  },
  {
   "cell_type": "code",
   "execution_count": null,
   "metadata": {},
   "outputs": [],
   "source": []
  },
  {
   "cell_type": "markdown",
   "metadata": {},
   "source": [
    "### LDA"
   ]
  },
  {
   "cell_type": "code",
   "execution_count": null,
   "metadata": {},
   "outputs": [],
   "source": [
    "lda = LinearDiscriminantAnalysis().fit(X, y)"
   ]
  },
  {
   "cell_type": "code",
   "execution_count": null,
   "metadata": {},
   "outputs": [],
   "source": [
    "def pretty_scalings(lda, X, out=False):\n",
    "    ret = pd.DataFrame(lda.scalings_, index=X.columns, columns=[\"LD\"+str(i+1) for i in range(lda.scalings_.shape[1])])\n",
    "    if out:\n",
    "        print(\"Coefficients of linear discriminants:\")\n",
    "        display(ret)\n",
    "    return ret\n",
    "\n",
    "pretty_scalings_ = pretty_scalings(lda, X, out=True)"
   ]
  },
  {
   "cell_type": "code",
   "execution_count": null,
   "metadata": {},
   "outputs": [],
   "source": [
    "def rpredict(lda, X, y, out=False):\n",
    "    ret = {\"class\": lda.predict(X),\n",
    "           \"posterior\": pd.DataFrame(lda.predict_proba(X), columns=lda.classes_)}\n",
    "    ret[\"x\"] = pd.DataFrame(lda.fit_transform(X, y))\n",
    "    ret[\"x\"].columns = [\"LD\"+str(i+1) for i in range(ret[\"x\"].shape[1])]\n",
    "    if out:\n",
    "        print(\"class\")\n",
    "        print(ret[\"class\"])\n",
    "        print()\n",
    "        print(\"posterior\")\n",
    "        print(ret[\"posterior\"])\n",
    "        print()\n",
    "        print(\"x\")\n",
    "        print(ret[\"x\"])\n",
    "    return ret\n",
    "\n",
    "lda_values = rpredict(lda, standardisedX, y, True)"
   ]
  },
  {
   "cell_type": "code",
   "execution_count": null,
   "metadata": {},
   "outputs": [],
   "source": [
    "printMeanAndSdByGroup(lda_values[\"x\"], y);"
   ]
  },
  {
   "cell_type": "code",
   "execution_count": null,
   "metadata": {},
   "outputs": [],
   "source": []
  }
 ],
 "metadata": {
  "kernelspec": {
   "display_name": "Python 3",
   "language": "python",
   "name": "python3"
  },
  "language_info": {
   "codemirror_mode": {
    "name": "ipython",
    "version": 3
   },
   "file_extension": ".py",
   "mimetype": "text/x-python",
   "name": "python",
   "nbconvert_exporter": "python",
   "pygments_lexer": "ipython3",
   "version": "3.7.7"
  }
 },
 "nbformat": 4,
 "nbformat_minor": 2
}
