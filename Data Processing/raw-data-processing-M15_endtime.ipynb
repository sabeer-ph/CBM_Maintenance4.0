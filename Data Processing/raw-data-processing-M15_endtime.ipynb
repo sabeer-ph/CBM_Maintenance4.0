{
 "cells": [
  {
   "cell_type": "code",
   "execution_count": 19,
   "metadata": {},
   "outputs": [],
   "source": [
    "# importing modules needed\n",
    "\n",
    "import os\n",
    "import pandas as pd\n",
    "import numpy as np\n",
    "from scipy import stats\n",
    "import openpyxl"
   ]
  },
  {
   "cell_type": "code",
   "execution_count": 20,
   "metadata": {},
   "outputs": [],
   "source": [
    "# folder path created for code and also the raw files\n",
    "p1 = os.getcwd()\n",
    "p2 = 'Data_entime_minus15'\n",
    "path = os.path.join(p1,p2)"
   ]
  },
  {
   "cell_type": "code",
   "execution_count": 21,
   "metadata": {},
   "outputs": [],
   "source": [
    "# here we set the type of conveyor only which we want to merge the data\n",
    "\n",
    "Conveyor_type = 'MET'\n",
    "Data_final = pd.DataFrame()\n"
   ]
  },
  {
   "cell_type": "code",
   "execution_count": 22,
   "metadata": {},
   "outputs": [
    {
     "name": "stdout",
     "output_type": "stream",
     "text": [
      "data import for conveyor type MET sucessful\n"
     ]
    }
   ],
   "source": [
    "# below loop will load excel files one by one\n",
    "# load it into a dataframe and filter it on conveyor type\n",
    "# append the filtered data to a new dataframe Data_final\n",
    "\n",
    "for i in os.listdir(path):\n",
    "    if i[-24:] == '_TEST_LOOP_RAW_DATA.xlsx':\n",
    "        #print(i)\n",
    "        df = pd.read_excel(path+'\\\\'+i)\n",
    "        df2 =df[df['Sensor_Loc'].str.contains(Conveyor_type)]\n",
    "        #print(df2.shape)\n",
    "        Data_final = Data_final.append(df2)\n",
    "print('data import for conveyor type {} sucessful'.format(Conveyor_type))"
   ]
  },
  {
   "cell_type": "code",
   "execution_count": 23,
   "metadata": {},
   "outputs": [],
   "source": [
    "# checking the sample of data and also the no of rows we have using shape\n",
    "\n",
    "Data_final.shape\n",
    "Data_final.head()\n",
    "type(Data_final)\n",
    "Data_final.reset_index(inplace=True) # had to reset index as dataframe was appending from multiple files had index of its own.\n",
    "# reset index after appending\n"
   ]
  },
  {
   "cell_type": "code",
   "execution_count": 24,
   "metadata": {
    "scrolled": true
   },
   "outputs": [
    {
     "ename": "KeyboardInterrupt",
     "evalue": "",
     "output_type": "error",
     "traceback": [
      "\u001b[1;31m---------------------------------------------------------------------------\u001b[0m",
      "\u001b[1;31mKeyboardInterrupt\u001b[0m                         Traceback (most recent call last)",
      "\u001b[1;32m<ipython-input-24-badfa9cabf6f>\u001b[0m in \u001b[0;36m<module>\u001b[1;34m\u001b[0m\n\u001b[1;32m----> 1\u001b[1;33m \u001b[0mData_final\u001b[0m\u001b[1;33m.\u001b[0m\u001b[0mto_excel\u001b[0m\u001b[1;33m(\u001b[0m\u001b[1;34m'Conveyor_Type_'\u001b[0m\u001b[1;33m+\u001b[0m\u001b[0mConveyor_type\u001b[0m\u001b[1;33m+\u001b[0m\u001b[1;34m'_M15_data.xlsx'\u001b[0m\u001b[1;33m)\u001b[0m\u001b[1;33m\u001b[0m\u001b[1;33m\u001b[0m\u001b[0m\n\u001b[0m",
      "\u001b[1;32m~\\AppData\\Local\\Continuum\\anaconda3\\lib\\site-packages\\pandas\\core\\generic.py\u001b[0m in \u001b[0;36mto_excel\u001b[1;34m(self, excel_writer, sheet_name, na_rep, float_format, columns, header, index, index_label, startrow, startcol, engine, merge_cells, encoding, inf_rep, verbose, freeze_panes)\u001b[0m\n\u001b[0;32m   2179\u001b[0m             \u001b[0mstartcol\u001b[0m\u001b[1;33m=\u001b[0m\u001b[0mstartcol\u001b[0m\u001b[1;33m,\u001b[0m\u001b[1;33m\u001b[0m\u001b[1;33m\u001b[0m\u001b[0m\n\u001b[0;32m   2180\u001b[0m             \u001b[0mfreeze_panes\u001b[0m\u001b[1;33m=\u001b[0m\u001b[0mfreeze_panes\u001b[0m\u001b[1;33m,\u001b[0m\u001b[1;33m\u001b[0m\u001b[1;33m\u001b[0m\u001b[0m\n\u001b[1;32m-> 2181\u001b[1;33m             \u001b[0mengine\u001b[0m\u001b[1;33m=\u001b[0m\u001b[0mengine\u001b[0m\u001b[1;33m,\u001b[0m\u001b[1;33m\u001b[0m\u001b[1;33m\u001b[0m\u001b[0m\n\u001b[0m\u001b[0;32m   2182\u001b[0m         )\n\u001b[0;32m   2183\u001b[0m \u001b[1;33m\u001b[0m\u001b[0m\n",
      "\u001b[1;32m~\\AppData\\Local\\Continuum\\anaconda3\\lib\\site-packages\\pandas\\io\\formats\\excel.py\u001b[0m in \u001b[0;36mwrite\u001b[1;34m(self, writer, sheet_name, startrow, startcol, freeze_panes, engine)\u001b[0m\n\u001b[0;32m    733\u001b[0m             \u001b[0mstartrow\u001b[0m\u001b[1;33m=\u001b[0m\u001b[0mstartrow\u001b[0m\u001b[1;33m,\u001b[0m\u001b[1;33m\u001b[0m\u001b[1;33m\u001b[0m\u001b[0m\n\u001b[0;32m    734\u001b[0m             \u001b[0mstartcol\u001b[0m\u001b[1;33m=\u001b[0m\u001b[0mstartcol\u001b[0m\u001b[1;33m,\u001b[0m\u001b[1;33m\u001b[0m\u001b[1;33m\u001b[0m\u001b[0m\n\u001b[1;32m--> 735\u001b[1;33m             \u001b[0mfreeze_panes\u001b[0m\u001b[1;33m=\u001b[0m\u001b[0mfreeze_panes\u001b[0m\u001b[1;33m,\u001b[0m\u001b[1;33m\u001b[0m\u001b[1;33m\u001b[0m\u001b[0m\n\u001b[0m\u001b[0;32m    736\u001b[0m         )\n\u001b[0;32m    737\u001b[0m         \u001b[1;32mif\u001b[0m \u001b[0mneed_save\u001b[0m\u001b[1;33m:\u001b[0m\u001b[1;33m\u001b[0m\u001b[1;33m\u001b[0m\u001b[0m\n",
      "\u001b[1;32m~\\AppData\\Local\\Continuum\\anaconda3\\lib\\site-packages\\pandas\\io\\excel\\_openpyxl.py\u001b[0m in \u001b[0;36mwrite_cells\u001b[1;34m(self, cells, sheet_name, startrow, startcol, freeze_panes)\u001b[0m\n\u001b[0;32m    427\u001b[0m         \u001b[1;32mfor\u001b[0m \u001b[0mcell\u001b[0m \u001b[1;32min\u001b[0m \u001b[0mcells\u001b[0m\u001b[1;33m:\u001b[0m\u001b[1;33m\u001b[0m\u001b[1;33m\u001b[0m\u001b[0m\n\u001b[0;32m    428\u001b[0m             xcell = wks.cell(\n\u001b[1;32m--> 429\u001b[1;33m                 \u001b[0mrow\u001b[0m\u001b[1;33m=\u001b[0m\u001b[0mstartrow\u001b[0m \u001b[1;33m+\u001b[0m \u001b[0mcell\u001b[0m\u001b[1;33m.\u001b[0m\u001b[0mrow\u001b[0m \u001b[1;33m+\u001b[0m \u001b[1;36m1\u001b[0m\u001b[1;33m,\u001b[0m \u001b[0mcolumn\u001b[0m\u001b[1;33m=\u001b[0m\u001b[0mstartcol\u001b[0m \u001b[1;33m+\u001b[0m \u001b[0mcell\u001b[0m\u001b[1;33m.\u001b[0m\u001b[0mcol\u001b[0m \u001b[1;33m+\u001b[0m \u001b[1;36m1\u001b[0m\u001b[1;33m\u001b[0m\u001b[1;33m\u001b[0m\u001b[0m\n\u001b[0m\u001b[0;32m    430\u001b[0m             )\n\u001b[0;32m    431\u001b[0m             \u001b[0mxcell\u001b[0m\u001b[1;33m.\u001b[0m\u001b[0mvalue\u001b[0m\u001b[1;33m,\u001b[0m \u001b[0mfmt\u001b[0m \u001b[1;33m=\u001b[0m \u001b[0mself\u001b[0m\u001b[1;33m.\u001b[0m\u001b[0m_value_with_fmt\u001b[0m\u001b[1;33m(\u001b[0m\u001b[0mcell\u001b[0m\u001b[1;33m.\u001b[0m\u001b[0mval\u001b[0m\u001b[1;33m)\u001b[0m\u001b[1;33m\u001b[0m\u001b[1;33m\u001b[0m\u001b[0m\n",
      "\u001b[1;32m~\\AppData\\Local\\Continuum\\anaconda3\\lib\\site-packages\\openpyxl\\worksheet\\worksheet.py\u001b[0m in \u001b[0;36mcell\u001b[1;34m(self, row, column, value)\u001b[0m\n\u001b[0;32m    238\u001b[0m             \u001b[1;32mraise\u001b[0m \u001b[0mValueError\u001b[0m\u001b[1;33m(\u001b[0m\u001b[1;34m\"Row or column values must be at least 1\"\u001b[0m\u001b[1;33m)\u001b[0m\u001b[1;33m\u001b[0m\u001b[1;33m\u001b[0m\u001b[0m\n\u001b[0;32m    239\u001b[0m \u001b[1;33m\u001b[0m\u001b[0m\n\u001b[1;32m--> 240\u001b[1;33m         \u001b[0mcell\u001b[0m \u001b[1;33m=\u001b[0m \u001b[0mself\u001b[0m\u001b[1;33m.\u001b[0m\u001b[0m_get_cell\u001b[0m\u001b[1;33m(\u001b[0m\u001b[0mrow\u001b[0m\u001b[1;33m,\u001b[0m \u001b[0mcolumn\u001b[0m\u001b[1;33m)\u001b[0m\u001b[1;33m\u001b[0m\u001b[1;33m\u001b[0m\u001b[0m\n\u001b[0m\u001b[0;32m    241\u001b[0m         \u001b[1;32mif\u001b[0m \u001b[0mvalue\u001b[0m \u001b[1;32mis\u001b[0m \u001b[1;32mnot\u001b[0m \u001b[1;32mNone\u001b[0m\u001b[1;33m:\u001b[0m\u001b[1;33m\u001b[0m\u001b[1;33m\u001b[0m\u001b[0m\n\u001b[0;32m    242\u001b[0m             \u001b[0mcell\u001b[0m\u001b[1;33m.\u001b[0m\u001b[0mvalue\u001b[0m \u001b[1;33m=\u001b[0m \u001b[0mvalue\u001b[0m\u001b[1;33m\u001b[0m\u001b[1;33m\u001b[0m\u001b[0m\n",
      "\u001b[1;32m~\\AppData\\Local\\Continuum\\anaconda3\\lib\\site-packages\\openpyxl\\worksheet\\worksheet.py\u001b[0m in \u001b[0;36m_get_cell\u001b[1;34m(self, row, column)\u001b[0m\n\u001b[0;32m    254\u001b[0m         \u001b[0mcoordinate\u001b[0m \u001b[1;33m=\u001b[0m \u001b[1;33m(\u001b[0m\u001b[0mrow\u001b[0m\u001b[1;33m,\u001b[0m \u001b[0mcolumn\u001b[0m\u001b[1;33m)\u001b[0m\u001b[1;33m\u001b[0m\u001b[1;33m\u001b[0m\u001b[0m\n\u001b[0;32m    255\u001b[0m         \u001b[1;32mif\u001b[0m \u001b[1;32mnot\u001b[0m \u001b[0mcoordinate\u001b[0m \u001b[1;32min\u001b[0m \u001b[0mself\u001b[0m\u001b[1;33m.\u001b[0m\u001b[0m_cells\u001b[0m\u001b[1;33m:\u001b[0m\u001b[1;33m\u001b[0m\u001b[1;33m\u001b[0m\u001b[0m\n\u001b[1;32m--> 256\u001b[1;33m             \u001b[0mcell\u001b[0m \u001b[1;33m=\u001b[0m \u001b[0mCell\u001b[0m\u001b[1;33m(\u001b[0m\u001b[0mself\u001b[0m\u001b[1;33m,\u001b[0m \u001b[0mrow\u001b[0m\u001b[1;33m=\u001b[0m\u001b[0mrow\u001b[0m\u001b[1;33m,\u001b[0m \u001b[0mcolumn\u001b[0m\u001b[1;33m=\u001b[0m\u001b[0mcolumn\u001b[0m\u001b[1;33m)\u001b[0m\u001b[1;33m\u001b[0m\u001b[1;33m\u001b[0m\u001b[0m\n\u001b[0m\u001b[0;32m    257\u001b[0m             \u001b[0mself\u001b[0m\u001b[1;33m.\u001b[0m\u001b[0m_add_cell\u001b[0m\u001b[1;33m(\u001b[0m\u001b[0mcell\u001b[0m\u001b[1;33m)\u001b[0m\u001b[1;33m\u001b[0m\u001b[1;33m\u001b[0m\u001b[0m\n\u001b[0;32m    258\u001b[0m         \u001b[1;32mreturn\u001b[0m \u001b[0mself\u001b[0m\u001b[1;33m.\u001b[0m\u001b[0m_cells\u001b[0m\u001b[1;33m[\u001b[0m\u001b[0mcoordinate\u001b[0m\u001b[1;33m]\u001b[0m\u001b[1;33m\u001b[0m\u001b[1;33m\u001b[0m\u001b[0m\n",
      "\u001b[1;32m~\\AppData\\Local\\Continuum\\anaconda3\\lib\\site-packages\\openpyxl\\cell\\cell.py\u001b[0m in \u001b[0;36m__init__\u001b[1;34m(self, worksheet, row, column, value, style_array)\u001b[0m\n\u001b[0;32m    101\u001b[0m \u001b[1;33m\u001b[0m\u001b[0m\n\u001b[0;32m    102\u001b[0m     \u001b[1;32mdef\u001b[0m \u001b[0m__init__\u001b[0m\u001b[1;33m(\u001b[0m\u001b[0mself\u001b[0m\u001b[1;33m,\u001b[0m \u001b[0mworksheet\u001b[0m\u001b[1;33m,\u001b[0m \u001b[0mrow\u001b[0m\u001b[1;33m=\u001b[0m\u001b[1;32mNone\u001b[0m\u001b[1;33m,\u001b[0m \u001b[0mcolumn\u001b[0m\u001b[1;33m=\u001b[0m\u001b[1;32mNone\u001b[0m\u001b[1;33m,\u001b[0m \u001b[0mvalue\u001b[0m\u001b[1;33m=\u001b[0m\u001b[1;32mNone\u001b[0m\u001b[1;33m,\u001b[0m \u001b[0mstyle_array\u001b[0m\u001b[1;33m=\u001b[0m\u001b[1;32mNone\u001b[0m\u001b[1;33m)\u001b[0m\u001b[1;33m:\u001b[0m\u001b[1;33m\u001b[0m\u001b[1;33m\u001b[0m\u001b[0m\n\u001b[1;32m--> 103\u001b[1;33m         \u001b[0msuper\u001b[0m\u001b[1;33m(\u001b[0m\u001b[0mCell\u001b[0m\u001b[1;33m,\u001b[0m \u001b[0mself\u001b[0m\u001b[1;33m)\u001b[0m\u001b[1;33m.\u001b[0m\u001b[0m__init__\u001b[0m\u001b[1;33m(\u001b[0m\u001b[0mworksheet\u001b[0m\u001b[1;33m,\u001b[0m \u001b[0mstyle_array\u001b[0m\u001b[1;33m)\u001b[0m\u001b[1;33m\u001b[0m\u001b[1;33m\u001b[0m\u001b[0m\n\u001b[0m\u001b[0;32m    104\u001b[0m         \u001b[0mself\u001b[0m\u001b[1;33m.\u001b[0m\u001b[0mrow\u001b[0m \u001b[1;33m=\u001b[0m \u001b[0mrow\u001b[0m\u001b[1;33m\u001b[0m\u001b[1;33m\u001b[0m\u001b[0m\n\u001b[0;32m    105\u001b[0m         \u001b[1;34m\"\"\"Row number of this cell (1-based)\"\"\"\u001b[0m\u001b[1;33m\u001b[0m\u001b[1;33m\u001b[0m\u001b[0m\n",
      "\u001b[1;31mKeyboardInterrupt\u001b[0m: "
     ]
    }
   ],
   "source": [
    "Data_final.to_excel('Conveyor_Type_'+Conveyor_type+'_M15_data.xlsx')"
   ]
  },
  {
   "cell_type": "code",
   "execution_count": 25,
   "metadata": {},
   "outputs": [],
   "source": [
    "# create a copy of dataFrame\n",
    "\n",
    "Data = Data_final.copy()\n",
    "processed = Data.loc[:,'Data_pull_time':'Sensor_Loc']\n"
   ]
  },
  {
   "cell_type": "code",
   "execution_count": 32,
   "metadata": {
    "collapsed": true
   },
   "outputs": [
    {
     "data": {
      "text/html": [
       "<div>\n",
       "<style scoped>\n",
       "    .dataframe tbody tr th:only-of-type {\n",
       "        vertical-align: middle;\n",
       "    }\n",
       "\n",
       "    .dataframe tbody tr th {\n",
       "        vertical-align: top;\n",
       "    }\n",
       "\n",
       "    .dataframe thead th {\n",
       "        text-align: right;\n",
       "    }\n",
       "</style>\n",
       "<table border=\"1\" class=\"dataframe\">\n",
       "  <thead>\n",
       "    <tr style=\"text-align: right;\">\n",
       "      <th></th>\n",
       "      <th>Data_pull_time</th>\n",
       "      <th>Mac_Id</th>\n",
       "      <th>Axis</th>\n",
       "      <th>Defect_Introduced</th>\n",
       "      <th>Asset_Id</th>\n",
       "      <th>Sensor_Loc</th>\n",
       "      <th>Max</th>\n",
       "      <th>Min</th>\n",
       "      <th>Mean</th>\n",
       "      <th>Std</th>\n",
       "      <th>P2P</th>\n",
       "      <th>Kurt</th>\n",
       "      <th>RMS</th>\n",
       "      <th>Var</th>\n",
       "    </tr>\n",
       "  </thead>\n",
       "  <tbody>\n",
       "    <tr>\n",
       "      <th>0</th>\n",
       "      <td>2020-07-13 15:40:14</td>\n",
       "      <td>29:9c:fe:16</td>\n",
       "      <td>X</td>\n",
       "      <td>No Defect_No Load</td>\n",
       "      <td>101.CA.DTL.01.1-050</td>\n",
       "      <td>MET-TST</td>\n",
       "      <td>1.968750</td>\n",
       "      <td>-1.546875</td>\n",
       "      <td>0.005970</td>\n",
       "      <td>0.214495</td>\n",
       "      <td>3.515625</td>\n",
       "      <td>15.857203</td>\n",
       "      <td>13.731299</td>\n",
       "      <td>0.046008</td>\n",
       "    </tr>\n",
       "    <tr>\n",
       "      <th>1</th>\n",
       "      <td>2020-07-13 16:11:10</td>\n",
       "      <td>29:9c:fe:16</td>\n",
       "      <td>X</td>\n",
       "      <td>No Defect_No Load</td>\n",
       "      <td>101.CA.DTL.01.1-050</td>\n",
       "      <td>MET-TST</td>\n",
       "      <td>0.640625</td>\n",
       "      <td>-0.562500</td>\n",
       "      <td>0.005566</td>\n",
       "      <td>0.084800</td>\n",
       "      <td>1.203125</td>\n",
       "      <td>3.319736</td>\n",
       "      <td>5.438241</td>\n",
       "      <td>0.007191</td>\n",
       "    </tr>\n",
       "    <tr>\n",
       "      <th>2</th>\n",
       "      <td>2020-07-14 09:20:54</td>\n",
       "      <td>29:9c:fe:16</td>\n",
       "      <td>X</td>\n",
       "      <td>No Defect_No Load</td>\n",
       "      <td>101.CA.DTL.01.1-050</td>\n",
       "      <td>MET-DSF</td>\n",
       "      <td>0.500000</td>\n",
       "      <td>-0.531250</td>\n",
       "      <td>0.006184</td>\n",
       "      <td>0.098063</td>\n",
       "      <td>1.031250</td>\n",
       "      <td>0.764959</td>\n",
       "      <td>6.287757</td>\n",
       "      <td>0.009616</td>\n",
       "    </tr>\n",
       "    <tr>\n",
       "      <th>3</th>\n",
       "      <td>2020-07-14 10:14:32</td>\n",
       "      <td>29:9c:fe:16</td>\n",
       "      <td>X</td>\n",
       "      <td>No Defect_No Load</td>\n",
       "      <td>101.CA.DTL.01.1-050</td>\n",
       "      <td>MET-DSF</td>\n",
       "      <td>0.781250</td>\n",
       "      <td>-0.531250</td>\n",
       "      <td>0.005722</td>\n",
       "      <td>0.111216</td>\n",
       "      <td>1.312500</td>\n",
       "      <td>1.537715</td>\n",
       "      <td>7.126370</td>\n",
       "      <td>0.012369</td>\n",
       "    </tr>\n",
       "    <tr>\n",
       "      <th>4</th>\n",
       "      <td>2020-07-14 10:33:04</td>\n",
       "      <td>29:9c:fe:16</td>\n",
       "      <td>X</td>\n",
       "      <td>No Defect_No Load</td>\n",
       "      <td>101.CA.DTL.01.1-050</td>\n",
       "      <td>MET-DSF</td>\n",
       "      <td>0.171875</td>\n",
       "      <td>-0.140625</td>\n",
       "      <td>0.006302</td>\n",
       "      <td>0.038998</td>\n",
       "      <td>0.312500</td>\n",
       "      <td>0.788191</td>\n",
       "      <td>2.527969</td>\n",
       "      <td>0.001521</td>\n",
       "    </tr>\n",
       "  </tbody>\n",
       "</table>\n",
       "</div>"
      ],
      "text/plain": [
       "       Data_pull_time       Mac_Id Axis  Defect_Introduced  \\\n",
       "0 2020-07-13 15:40:14  29:9c:fe:16    X  No Defect_No Load   \n",
       "1 2020-07-13 16:11:10  29:9c:fe:16    X  No Defect_No Load   \n",
       "2 2020-07-14 09:20:54  29:9c:fe:16    X  No Defect_No Load   \n",
       "3 2020-07-14 10:14:32  29:9c:fe:16    X  No Defect_No Load   \n",
       "4 2020-07-14 10:33:04  29:9c:fe:16    X  No Defect_No Load   \n",
       "\n",
       "              Asset_Id Sensor_Loc       Max       Min      Mean       Std  \\\n",
       "0  101.CA.DTL.01.1-050    MET-TST  1.968750 -1.546875  0.005970  0.214495   \n",
       "1  101.CA.DTL.01.1-050    MET-TST  0.640625 -0.562500  0.005566  0.084800   \n",
       "2  101.CA.DTL.01.1-050    MET-DSF  0.500000 -0.531250  0.006184  0.098063   \n",
       "3  101.CA.DTL.01.1-050    MET-DSF  0.781250 -0.531250  0.005722  0.111216   \n",
       "4  101.CA.DTL.01.1-050    MET-DSF  0.171875 -0.140625  0.006302  0.038998   \n",
       "\n",
       "        P2P       Kurt        RMS       Var  \n",
       "0  3.515625  15.857203  13.731299  0.046008  \n",
       "1  1.203125   3.319736   5.438241  0.007191  \n",
       "2  1.031250   0.764959   6.287757  0.009616  \n",
       "3  1.312500   1.537715   7.126370  0.012369  \n",
       "4  0.312500   0.788191   2.527969  0.001521  "
      ]
     },
     "execution_count": 32,
     "metadata": {},
     "output_type": "execute_result"
    }
   ],
   "source": [
    "# for checking the added values\n",
    "\n",
    "processed.head()"
   ]
  },
  {
   "cell_type": "code",
   "execution_count": 46,
   "metadata": {},
   "outputs": [
    {
     "data": {
      "text/html": [
       "<div>\n",
       "<style scoped>\n",
       "    .dataframe tbody tr th:only-of-type {\n",
       "        vertical-align: middle;\n",
       "    }\n",
       "\n",
       "    .dataframe tbody tr th {\n",
       "        vertical-align: top;\n",
       "    }\n",
       "\n",
       "    .dataframe thead th {\n",
       "        text-align: right;\n",
       "    }\n",
       "</style>\n",
       "<table border=\"1\" class=\"dataframe\">\n",
       "  <thead>\n",
       "    <tr style=\"text-align: right;\">\n",
       "      <th></th>\n",
       "      <th>Data_pull_time</th>\n",
       "      <th>Mac_Id</th>\n",
       "      <th>Axis</th>\n",
       "      <th>Defect_Introduced</th>\n",
       "      <th>Asset_Id</th>\n",
       "      <th>Sensor_Loc</th>\n",
       "      <th>Max</th>\n",
       "      <th>Min</th>\n",
       "      <th>Mean</th>\n",
       "      <th>Std</th>\n",
       "      <th>P2P</th>\n",
       "      <th>Kurt</th>\n",
       "      <th>RMS</th>\n",
       "      <th>Var</th>\n",
       "    </tr>\n",
       "  </thead>\n",
       "  <tbody>\n",
       "    <tr>\n",
       "      <th>354</th>\n",
       "      <td>2020-07-13 15:37:31</td>\n",
       "      <td>84:e1:93:bd</td>\n",
       "      <td>X</td>\n",
       "      <td>No Defect_No Load</td>\n",
       "      <td>101.CA.DTL.01.1-200</td>\n",
       "      <td>MET-EDT</td>\n",
       "      <td>8.281250</td>\n",
       "      <td>-8.015625</td>\n",
       "      <td>0.229065</td>\n",
       "      <td>0.401707</td>\n",
       "      <td>16.296875</td>\n",
       "      <td>142.405036</td>\n",
       "      <td>29.592628</td>\n",
       "      <td>0.161368</td>\n",
       "    </tr>\n",
       "    <tr>\n",
       "      <th>419</th>\n",
       "      <td>2020-07-19 16:42:37</td>\n",
       "      <td>84:e1:93:bd</td>\n",
       "      <td>X</td>\n",
       "      <td>No Defect_No Load</td>\n",
       "      <td>101.CA.DTL.01.1-200</td>\n",
       "      <td>MET-EDT</td>\n",
       "      <td>8.140625</td>\n",
       "      <td>-4.187500</td>\n",
       "      <td>0.635834</td>\n",
       "      <td>0.664155</td>\n",
       "      <td>12.328125</td>\n",
       "      <td>16.158755</td>\n",
       "      <td>58.840999</td>\n",
       "      <td>0.441102</td>\n",
       "    </tr>\n",
       "    <tr>\n",
       "      <th>489</th>\n",
       "      <td>2020-07-19 16:43:15</td>\n",
       "      <td>84:e1:93:bd</td>\n",
       "      <td>Y</td>\n",
       "      <td>No Defect_No Load</td>\n",
       "      <td>101.CA.DTL.01.1-200</td>\n",
       "      <td>MET-EDT</td>\n",
       "      <td>8.125000</td>\n",
       "      <td>-7.750000</td>\n",
       "      <td>0.051819</td>\n",
       "      <td>0.375243</td>\n",
       "      <td>15.875000</td>\n",
       "      <td>109.861083</td>\n",
       "      <td>24.240535</td>\n",
       "      <td>0.140807</td>\n",
       "    </tr>\n",
       "    <tr>\n",
       "      <th>493</th>\n",
       "      <td>2020-07-13 15:38:59</td>\n",
       "      <td>84:e1:93:bd</td>\n",
       "      <td>Z</td>\n",
       "      <td>No Defect_No Load</td>\n",
       "      <td>101.CA.DTL.01.1-200</td>\n",
       "      <td>MET-EDT</td>\n",
       "      <td>9.046875</td>\n",
       "      <td>-8.093750</td>\n",
       "      <td>0.918781</td>\n",
       "      <td>0.430832</td>\n",
       "      <td>17.140625</td>\n",
       "      <td>207.263463</td>\n",
       "      <td>64.944378</td>\n",
       "      <td>0.185616</td>\n",
       "    </tr>\n",
       "    <tr>\n",
       "      <th>558</th>\n",
       "      <td>2020-07-19 16:43:45</td>\n",
       "      <td>84:e1:93:bd</td>\n",
       "      <td>Z</td>\n",
       "      <td>No Defect_No Load</td>\n",
       "      <td>101.CA.DTL.01.1-200</td>\n",
       "      <td>MET-EDT</td>\n",
       "      <td>8.296875</td>\n",
       "      <td>-8.593750</td>\n",
       "      <td>-0.585484</td>\n",
       "      <td>0.683848</td>\n",
       "      <td>16.890625</td>\n",
       "      <td>31.856596</td>\n",
       "      <td>57.611570</td>\n",
       "      <td>0.467649</td>\n",
       "    </tr>\n",
       "    <tr>\n",
       "      <th>643</th>\n",
       "      <td>2020-07-13 15:35:37</td>\n",
       "      <td>8a:18:56:08</td>\n",
       "      <td>Z</td>\n",
       "      <td>No Defect_No Load</td>\n",
       "      <td>101.CA.DTL.01.1-050</td>\n",
       "      <td>MET-EDT</td>\n",
       "      <td>8.453125</td>\n",
       "      <td>-0.390625</td>\n",
       "      <td>0.532738</td>\n",
       "      <td>0.442060</td>\n",
       "      <td>8.843750</td>\n",
       "      <td>58.330759</td>\n",
       "      <td>44.302549</td>\n",
       "      <td>0.195417</td>\n",
       "    </tr>\n",
       "  </tbody>\n",
       "</table>\n",
       "</div>"
      ],
      "text/plain": [
       "         Data_pull_time       Mac_Id Axis  Defect_Introduced  \\\n",
       "354 2020-07-13 15:37:31  84:e1:93:bd    X  No Defect_No Load   \n",
       "419 2020-07-19 16:42:37  84:e1:93:bd    X  No Defect_No Load   \n",
       "489 2020-07-19 16:43:15  84:e1:93:bd    Y  No Defect_No Load   \n",
       "493 2020-07-13 15:38:59  84:e1:93:bd    Z  No Defect_No Load   \n",
       "558 2020-07-19 16:43:45  84:e1:93:bd    Z  No Defect_No Load   \n",
       "643 2020-07-13 15:35:37  8a:18:56:08    Z  No Defect_No Load   \n",
       "\n",
       "                Asset_Id Sensor_Loc       Max       Min      Mean       Std  \\\n",
       "354  101.CA.DTL.01.1-200    MET-EDT  8.281250 -8.015625  0.229065  0.401707   \n",
       "419  101.CA.DTL.01.1-200    MET-EDT  8.140625 -4.187500  0.635834  0.664155   \n",
       "489  101.CA.DTL.01.1-200    MET-EDT  8.125000 -7.750000  0.051819  0.375243   \n",
       "493  101.CA.DTL.01.1-200    MET-EDT  9.046875 -8.093750  0.918781  0.430832   \n",
       "558  101.CA.DTL.01.1-200    MET-EDT  8.296875 -8.593750 -0.585484  0.683848   \n",
       "643  101.CA.DTL.01.1-050    MET-EDT  8.453125 -0.390625  0.532738  0.442060   \n",
       "\n",
       "           P2P        Kurt        RMS       Var  \n",
       "354  16.296875  142.405036  29.592628  0.161368  \n",
       "419  12.328125   16.158755  58.840999  0.441102  \n",
       "489  15.875000  109.861083  24.240535  0.140807  \n",
       "493  17.140625  207.263463  64.944378  0.185616  \n",
       "558  16.890625   31.856596  57.611570  0.467649  \n",
       "643   8.843750   58.330759  44.302549  0.195417  "
      ]
     },
     "execution_count": 46,
     "metadata": {},
     "output_type": "execute_result"
    }
   ],
   "source": [
    "processed[processed.Max > 8.0]"
   ]
  },
  {
   "cell_type": "markdown",
   "metadata": {},
   "source": [
    "### calculate max,   min,   average,   std for each row"
   ]
  },
  {
   "cell_type": "code",
   "execution_count": 27,
   "metadata": {},
   "outputs": [],
   "source": [
    "processed['Max'] = Data.loc[:,'Vsample1':'Vsample4096'].max(axis=1)\n",
    "processed['Min'] = Data.loc[:,'Vsample1':'Vsample4096'].min(axis=1)\n",
    "processed['Mean'] = Data.loc[:,'Vsample1':'Vsample4096'].mean(axis=1)\n",
    "processed['Std'] = Data.loc[:,'Vsample1':'Vsample4096'].std(axis=1)"
   ]
  },
  {
   "cell_type": "markdown",
   "metadata": {},
   "source": [
    "### Peak to Peak"
   ]
  },
  {
   "cell_type": "code",
   "execution_count": 28,
   "metadata": {},
   "outputs": [],
   "source": [
    "processed['P2P'] = Data.loc[:,'Vsample1':'Vsample4096'].max(axis=1) - Data.loc[:,'Vsample1':'Vsample4096'].min(axis=1)"
   ]
  },
  {
   "cell_type": "markdown",
   "metadata": {},
   "source": [
    "### kurtosis"
   ]
  },
  {
   "cell_type": "code",
   "execution_count": 29,
   "metadata": {},
   "outputs": [],
   "source": [
    "processed['Kurt'] = Data.loc[:,'Vsample1':'Vsample4096'].kurt(axis=1)"
   ]
  },
  {
   "cell_type": "markdown",
   "metadata": {},
   "source": [
    "### RMS"
   ]
  },
  {
   "cell_type": "code",
   "execution_count": 30,
   "metadata": {},
   "outputs": [],
   "source": [
    "processed['RMS'] =  (Data.loc[:,'Vsample1':'Vsample4096']**2).sum(1).pow(1/2)"
   ]
  },
  {
   "cell_type": "markdown",
   "metadata": {},
   "source": [
    "### Variance"
   ]
  },
  {
   "cell_type": "code",
   "execution_count": 31,
   "metadata": {},
   "outputs": [],
   "source": [
    "processed['Var'] = Data.loc[:,'Vsample1':'Vsample4096'].var(axis=1)"
   ]
  },
  {
   "cell_type": "markdown",
   "metadata": {},
   "source": [
    "### Remove G as per vishal   RMS < 0.2 and Kurt < 300 and freq side"
   ]
  },
  {
   "cell_type": "code",
   "execution_count": null,
   "metadata": {},
   "outputs": [],
   "source": []
  },
  {
   "cell_type": "code",
   "execution_count": null,
   "metadata": {},
   "outputs": [],
   "source": []
  },
  {
   "cell_type": "markdown",
   "metadata": {},
   "source": [
    "# analyse by graphs"
   ]
  },
  {
   "cell_type": "code",
   "execution_count": null,
   "metadata": {},
   "outputs": [],
   "source": [
    "Data_final.iloc[:20,:]"
   ]
  },
  {
   "cell_type": "code",
   "execution_count": 47,
   "metadata": {},
   "outputs": [
    {
     "data": {
      "text/plain": [
       "<matplotlib.axes._subplots.AxesSubplot at 0x28174192348>"
      ]
     },
     "execution_count": 47,
     "metadata": {},
     "output_type": "execute_result"
    },
    {
     "data": {
      "image/png": "[encoded data removed]",
      "text/plain": [
       "<Figure size 432x288 with 1 Axes>"
      ]
     },
     "metadata": {
      "needs_background": "light"
     },
     "output_type": "display_data"
    }
   ],
   "source": [
    "#for i in range(10):\n",
    "row = Data_final.iloc[643]['Vsample1':'Vsample4096']\n",
    "row.plot()"
   ]
  },
  {
   "cell_type": "code",
   "execution_count": 42,
   "metadata": {},
   "outputs": [],
   "source": [
    "row = processed['P2P']"
   ]
  },
  {
   "cell_type": "code",
   "execution_count": 48,
   "metadata": {},
   "outputs": [
    {
     "data": {
      "text/plain": [
       "<matplotlib.axes._subplots.AxesSubplot at 0x2817428b188>"
      ]
     },
     "execution_count": 48,
     "metadata": {},
     "output_type": "execute_result"
    },
    {
     "data": {
      "image/png": "[encoded data removed]",
      "text/plain": [
       "<Figure size 432x288 with 1 Axes>"
      ]
     },
     "metadata": {
      "needs_background": "light"
     },
     "output_type": "display_data"
    }
   ],
   "source": [
    "row.plot.box()"
   ]
  },
  {
   "cell_type": "code",
   "execution_count": null,
   "metadata": {},
   "outputs": [],
   "source": [
    "processed.groupby('Defect_Introduced').max()"
   ]
  },
  {
   "cell_type": "code",
   "execution_count": 33,
   "metadata": {},
   "outputs": [
    {
     "data": {
      "text/plain": [
       "<matplotlib.axes._subplots.AxesSubplot at 0x26da2c8fd88>"
      ]
     },
     "execution_count": 33,
     "metadata": {},
     "output_type": "execute_result"
    },
    {
     "data": {
      "image/png": "[encoded data removed]",
      "text/plain": [
       "<Figure size 432x288 with 1 Axes>"
      ]
     },
     "metadata": {
      "needs_background": "light"
     },
     "output_type": "display_data"
    }
   ],
   "source": [
    "processed['P2P'].plot()"
   ]
  },
  {
   "cell_type": "code",
   "execution_count": 18,
   "metadata": {},
   "outputs": [
    {
     "data": {
      "text/plain": [
       "(656, 14)"
      ]
     },
     "execution_count": 18,
     "metadata": {},
     "output_type": "execute_result"
    }
   ],
   "source": [
    "processed.shape"
   ]
  },
  {
   "cell_type": "code",
   "execution_count": 17,
   "metadata": {},
   "outputs": [
    {
     "data": {
      "text/plain": [
       "<matplotlib.axes._subplots.AxesSubplot at 0x26da2dc7348>"
      ]
     },
     "execution_count": 17,
     "metadata": {},
     "output_type": "execute_result"
    },
    {
     "data": {
      "image/png": "[encoded data removed]",
      "text/plain": [
       "<Figure size 432x288 with 1 Axes>"
      ]
     },
     "metadata": {
      "needs_background": "light"
     },
     "output_type": "display_data"
    }
   ],
   "source": [
    "processed['P2P'].plot.hist()"
   ]
  },
  {
   "cell_type": "markdown",
   "metadata": {},
   "source": [
    "### Frequency Distribution"
   ]
  },
  {
   "cell_type": "code",
   "execution_count": 31,
   "metadata": {},
   "outputs": [
    {
     "data": {
      "text/plain": [
       "3202"
      ]
     },
     "execution_count": 31,
     "metadata": {},
     "output_type": "execute_result"
    }
   ],
   "source": [
    "Sec = 1.279374957 # sampling duration\n",
    "N = 4096   # samples\n",
    "\n",
    "Fs_rate = round(N/Sec)\n",
    "Fs_rate    # in 1 second we sampled 3200 samples "
   ]
  },
  {
   "cell_type": "code",
   "execution_count": 37,
   "metadata": {},
   "outputs": [
    {
     "data": {
      "text/plain": [
       "0.0003123048094940662"
      ]
     },
     "execution_count": 37,
     "metadata": {},
     "output_type": "execute_result"
    }
   ],
   "source": [
    "Secs  = Sec/N\n",
    "Secs # at what time interval we sampled the data \n",
    "\n",
    "\n",
    "Ts = 1/Fs_rate\n",
    "Ts"
   ]
  },
  {
   "cell_type": "code",
   "execution_count": null,
   "metadata": {},
   "outputs": [],
   "source": [
    "processed.iloc[493][]"
   ]
  },
  {
   "cell_type": "markdown",
   "metadata": {},
   "source": [
    "### export plots of rows in dataframe"
   ]
  },
  {
   "cell_type": "code",
   "execution_count": 54,
   "metadata": {},
   "outputs": [
    {
     "data": {
      "image/png": "[encoded data removed]",
      "text/plain": [
       "<Figure size 432x288 with 1 Axes>"
      ]
     },
     "metadata": {
      "needs_background": "light"
     },
     "output_type": "display_data"
    }
   ],
   "source": [
    "for i, row in Data_final.iterrows():\n",
    "    row['Vsample1':'Vsample4096'].plot()"
   ]
  },
  {
   "cell_type": "code",
   "execution_count": null,
   "metadata": {},
   "outputs": [],
   "source": [
    "plot = dtf.plot()\n",
    "fig = plot.get_figure()\n",
    "fig.savefig(\"output.png\")"
   ]
  }
 ],
 "metadata": {
  "kernelspec": {
   "display_name": "Python 3",
   "language": "python",
   "name": "python3"
  },
  "language_info": {
   "codemirror_mode": {
    "name": "ipython",
    "version": 3
   },
   "file_extension": ".py",
   "mimetype": "text/x-python",
   "name": "python",
   "nbconvert_exporter": "python",
   "pygments_lexer": "ipython3",
   "version": "3.8.5"
  }
 },
 "nbformat": 4,
 "nbformat_minor": 4
}
