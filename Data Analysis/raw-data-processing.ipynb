{
 "cells": [
  {
   "cell_type": "code",
   "execution_count": 1,
   "metadata": {},
   "outputs": [],
   "source": [
    "# importing modules needed\n",
    "\n",
    "import os\n",
    "import pandas as pd\n",
    "import numpy as np\n",
    "from scipy import stats\n",
    "import openpyxl\n",
    "import matplotlib.pyplot as plt\n",
    "import scipy"
   ]
  },
  {
   "cell_type": "code",
   "execution_count": 2,
   "metadata": {},
   "outputs": [],
   "source": [
    "##### define all functions here for pre processing ####\n",
    "\n",
    "#kurt = lambda x : stats.kurtosis(x)"
   ]
  },
  {
   "cell_type": "code",
   "execution_count": 3,
   "metadata": {},
   "outputs": [],
   "source": [
    "# folder path created for code and also the raw files\n",
    "p1 = os.getcwd()\n",
    "p2 = 'Final_Raw_Data'\n",
    "path = os.path.join(p1,p2)"
   ]
  },
  {
   "cell_type": "code",
   "execution_count": 4,
   "metadata": {},
   "outputs": [],
   "source": [
    "# here we set the type of conveyor only which we want to merge the data\n",
    "\n",
    "Conveyor_type = 'MET'\n",
    "Data_final = pd.DataFrame()\n"
   ]
  },
  {
   "cell_type": "code",
   "execution_count": 5,
   "metadata": {},
   "outputs": [
    {
     "name": "stdout",
     "output_type": "stream",
     "text": [
      "data import for conveyor type MET sucessful\n"
     ]
    }
   ],
   "source": [
    "# here we set the type of conveyor only which we want to merge the data\n",
    "\n",
    "Conveyor_type = 'MET'\n",
    "Data_final = pd.DataFrame()\n",
    "\n",
    "\n",
    "# below loop will load excel files one by one\n",
    "# load it into a dataframe and filter it on conveyor type\n",
    "# append the filtered data to a new dataframe Data_final\n",
    "\n",
    "for i in os.listdir(path):\n",
    "    if i[-24:] == '_TEST_LOOP_RAW_DATA.xlsx':\n",
    "        #print(i)\n",
    "        df = pd.read_excel(path+'\\\\'+i)\n",
    "        df2 =df[df['Sensor_Loc'].str.contains(Conveyor_type)]\n",
    "        #print(df2.shape)\n",
    "        Data_final = Data_final.append(df2)\n",
    "print('data import for conveyor type {} sucessful'.format(Conveyor_type))"
   ]
  },
  {
   "cell_type": "code",
   "execution_count": 7,
   "metadata": {},
   "outputs": [],
   "source": [
    "# checking the sample of data and also the no of rows we have using shape\n",
    "\n",
    "Data_final.shape\n",
    "Data_final.head()\n",
    "type(Data_final)\n",
    "Data_final.reset_index(inplace=True) # had to reset index as dataframe was appending from multiple files had index of its own.\n",
    "# reset index after appending\n"
   ]
  },
  {
   "cell_type": "code",
   "execution_count": 11,
   "metadata": {},
   "outputs": [],
   "source": [
    "Data_final.to_excel('Conveyor_Type_'+Conveyor_type+'_data.xlsx')"
   ]
  },
  {
   "cell_type": "code",
   "execution_count": 45,
   "metadata": {},
   "outputs": [],
   "source": [
    "# create a copy of dataFrame\n",
    "\n",
    "Data = Data_final.copy()\n",
    "processed = Data.loc[:,'Data_pull_time':'Sensor_Loc']\n"
   ]
  },
  {
   "cell_type": "markdown",
   "metadata": {},
   "source": [
    "### buiding graphs for wobling motor"
   ]
  },
  {
   "cell_type": "code",
   "execution_count": 57,
   "metadata": {},
   "outputs": [],
   "source": [
    "wobling = Data[Data['Defect_Introduced'] == 'Wobling shaft present in the merge_No Load']"
   ]
  },
  {
   "cell_type": "code",
   "execution_count": 58,
   "metadata": {},
   "outputs": [],
   "source": [
    "for i,row in wobling.iterrows():\n",
    "    plot = row['Vsample1':'Vsample4096'].plot()\n",
    "    #plot.set_xlim(0,4)\n",
    "    fig = plot.get_figure()\n",
    "    plt.suptitle(str(row['Data_pull_time'])+' '+row['Axis'])\n",
    "    plt.title(row['Defect_Introduced']+' '+row['Sensor_Loc'])\n",
    "    fig.savefig('./Wobling-Motor/'+row['Mac_Id'].replace(\":\",\"\")+'_output'+str(i)+'.png')\n",
    "    plt.close()"
   ]
  },
  {
   "cell_type": "code",
   "execution_count": 9,
   "metadata": {},
   "outputs": [
    {
     "data": {
      "text/html": [
       "<div>\n",
       "<style scoped>\n",
       "    .dataframe tbody tr th:only-of-type {\n",
       "        vertical-align: middle;\n",
       "    }\n",
       "\n",
       "    .dataframe tbody tr th {\n",
       "        vertical-align: top;\n",
       "    }\n",
       "\n",
       "    .dataframe thead th {\n",
       "        text-align: right;\n",
       "    }\n",
       "</style>\n",
       "<table border=\"1\" class=\"dataframe\">\n",
       "  <thead>\n",
       "    <tr style=\"text-align: right;\">\n",
       "      <th></th>\n",
       "      <th>Data_pull_time</th>\n",
       "      <th>Mac_Id</th>\n",
       "      <th>Axis</th>\n",
       "      <th>Defect_Introduced</th>\n",
       "      <th>Asset_Id</th>\n",
       "      <th>Sensor_Loc</th>\n",
       "    </tr>\n",
       "  </thead>\n",
       "  <tbody>\n",
       "    <tr>\n",
       "      <th>0</th>\n",
       "      <td>2020-07-13 15:40:14</td>\n",
       "      <td>29:9c:fe:16</td>\n",
       "      <td>X</td>\n",
       "      <td>No Defect_No Load</td>\n",
       "      <td>101.CA.DTL.01.1-050</td>\n",
       "      <td>MET-TST</td>\n",
       "    </tr>\n",
       "    <tr>\n",
       "      <th>1</th>\n",
       "      <td>2020-07-13 16:11:10</td>\n",
       "      <td>29:9c:fe:16</td>\n",
       "      <td>X</td>\n",
       "      <td>No Defect_No Load</td>\n",
       "      <td>101.CA.DTL.01.1-050</td>\n",
       "      <td>MET-TST</td>\n",
       "    </tr>\n",
       "    <tr>\n",
       "      <th>2</th>\n",
       "      <td>2020-07-14 09:20:54</td>\n",
       "      <td>29:9c:fe:16</td>\n",
       "      <td>X</td>\n",
       "      <td>No Defect_No Load</td>\n",
       "      <td>101.CA.DTL.01.1-050</td>\n",
       "      <td>MET-DSF</td>\n",
       "    </tr>\n",
       "    <tr>\n",
       "      <th>3</th>\n",
       "      <td>2020-07-14 10:14:32</td>\n",
       "      <td>29:9c:fe:16</td>\n",
       "      <td>X</td>\n",
       "      <td>No Defect_No Load</td>\n",
       "      <td>101.CA.DTL.01.1-050</td>\n",
       "      <td>MET-DSF</td>\n",
       "    </tr>\n",
       "    <tr>\n",
       "      <th>4</th>\n",
       "      <td>2020-07-14 10:33:04</td>\n",
       "      <td>29:9c:fe:16</td>\n",
       "      <td>X</td>\n",
       "      <td>No Defect_No Load</td>\n",
       "      <td>101.CA.DTL.01.1-050</td>\n",
       "      <td>MET-DSF</td>\n",
       "    </tr>\n",
       "  </tbody>\n",
       "</table>\n",
       "</div>"
      ],
      "text/plain": [
       "       Data_pull_time       Mac_Id Axis  Defect_Introduced  \\\n",
       "0 2020-07-13 15:40:14  29:9c:fe:16    X  No Defect_No Load   \n",
       "1 2020-07-13 16:11:10  29:9c:fe:16    X  No Defect_No Load   \n",
       "2 2020-07-14 09:20:54  29:9c:fe:16    X  No Defect_No Load   \n",
       "3 2020-07-14 10:14:32  29:9c:fe:16    X  No Defect_No Load   \n",
       "4 2020-07-14 10:33:04  29:9c:fe:16    X  No Defect_No Load   \n",
       "\n",
       "              Asset_Id Sensor_Loc  \n",
       "0  101.CA.DTL.01.1-050    MET-TST  \n",
       "1  101.CA.DTL.01.1-050    MET-TST  \n",
       "2  101.CA.DTL.01.1-050    MET-DSF  \n",
       "3  101.CA.DTL.01.1-050    MET-DSF  \n",
       "4  101.CA.DTL.01.1-050    MET-DSF  "
      ]
     },
     "execution_count": 9,
     "metadata": {},
     "output_type": "execute_result"
    }
   ],
   "source": [
    "# for checking the added values\n",
    "\n",
    "processed.head()"
   ]
  },
  {
   "cell_type": "code",
   "execution_count": 113,
   "metadata": {},
   "outputs": [
    {
     "data": {
      "text/html": [
       "<div>\n",
       "<style scoped>\n",
       "    .dataframe tbody tr th:only-of-type {\n",
       "        vertical-align: middle;\n",
       "    }\n",
       "\n",
       "    .dataframe tbody tr th {\n",
       "        vertical-align: top;\n",
       "    }\n",
       "\n",
       "    .dataframe thead th {\n",
       "        text-align: right;\n",
       "    }\n",
       "</style>\n",
       "<table border=\"1\" class=\"dataframe\">\n",
       "  <thead>\n",
       "    <tr style=\"text-align: right;\">\n",
       "      <th></th>\n",
       "      <th>Data_pull_time</th>\n",
       "      <th>Mac_Id</th>\n",
       "      <th>Axis</th>\n",
       "      <th>Defect_Introduced</th>\n",
       "      <th>Asset_Id</th>\n",
       "      <th>Sensor_Loc</th>\n",
       "      <th>Max</th>\n",
       "      <th>Min</th>\n",
       "      <th>Mean</th>\n",
       "      <th>Std</th>\n",
       "      <th>P2P</th>\n",
       "      <th>Kurt</th>\n",
       "      <th>RMS</th>\n",
       "      <th>Var</th>\n",
       "    </tr>\n",
       "  </thead>\n",
       "  <tbody>\n",
       "    <tr>\n",
       "      <th>228</th>\n",
       "      <td>2020-07-19 16:40:17</td>\n",
       "      <td>4c:92:10:8c</td>\n",
       "      <td>X</td>\n",
       "      <td>Belt showing signs of wear and tear</td>\n",
       "      <td>101.CA.DTL.01.1-210</td>\n",
       "      <td>MET-EDT</td>\n",
       "      <td>7.109375</td>\n",
       "      <td>-7.015625</td>\n",
       "      <td>0.033859</td>\n",
       "      <td>0.304636</td>\n",
       "      <td>14.125000</td>\n",
       "      <td>191.020657</td>\n",
       "      <td>19.614398</td>\n",
       "      <td>0.092803</td>\n",
       "    </tr>\n",
       "    <tr>\n",
       "      <th>354</th>\n",
       "      <td>2020-07-13 15:37:31</td>\n",
       "      <td>84:e1:93:bd</td>\n",
       "      <td>X</td>\n",
       "      <td>No Defect_No Load</td>\n",
       "      <td>101.CA.DTL.01.1-200</td>\n",
       "      <td>MET-EDT</td>\n",
       "      <td>8.281250</td>\n",
       "      <td>-8.015625</td>\n",
       "      <td>0.229065</td>\n",
       "      <td>0.401707</td>\n",
       "      <td>16.296875</td>\n",
       "      <td>142.405036</td>\n",
       "      <td>29.592628</td>\n",
       "      <td>0.161368</td>\n",
       "    </tr>\n",
       "    <tr>\n",
       "      <th>489</th>\n",
       "      <td>2020-07-19 16:43:15</td>\n",
       "      <td>84:e1:93:bd</td>\n",
       "      <td>Y</td>\n",
       "      <td>No Defect_No Load</td>\n",
       "      <td>101.CA.DTL.01.1-200</td>\n",
       "      <td>MET-EDT</td>\n",
       "      <td>8.125000</td>\n",
       "      <td>-7.750000</td>\n",
       "      <td>0.051819</td>\n",
       "      <td>0.375243</td>\n",
       "      <td>15.875000</td>\n",
       "      <td>109.861083</td>\n",
       "      <td>24.240535</td>\n",
       "      <td>0.140807</td>\n",
       "    </tr>\n",
       "    <tr>\n",
       "      <th>493</th>\n",
       "      <td>2020-07-13 15:38:59</td>\n",
       "      <td>84:e1:93:bd</td>\n",
       "      <td>Z</td>\n",
       "      <td>No Defect_No Load</td>\n",
       "      <td>101.CA.DTL.01.1-200</td>\n",
       "      <td>MET-EDT</td>\n",
       "      <td>9.046875</td>\n",
       "      <td>-8.093750</td>\n",
       "      <td>0.918781</td>\n",
       "      <td>0.430832</td>\n",
       "      <td>17.140625</td>\n",
       "      <td>207.263463</td>\n",
       "      <td>64.944378</td>\n",
       "      <td>0.185616</td>\n",
       "    </tr>\n",
       "    <tr>\n",
       "      <th>558</th>\n",
       "      <td>2020-07-19 16:43:45</td>\n",
       "      <td>84:e1:93:bd</td>\n",
       "      <td>Z</td>\n",
       "      <td>No Defect_No Load</td>\n",
       "      <td>101.CA.DTL.01.1-200</td>\n",
       "      <td>MET-EDT</td>\n",
       "      <td>8.296875</td>\n",
       "      <td>-8.593750</td>\n",
       "      <td>-0.585484</td>\n",
       "      <td>0.683848</td>\n",
       "      <td>16.890625</td>\n",
       "      <td>31.856596</td>\n",
       "      <td>57.611570</td>\n",
       "      <td>0.467649</td>\n",
       "    </tr>\n",
       "  </tbody>\n",
       "</table>\n",
       "</div>"
      ],
      "text/plain": [
       "         Data_pull_time       Mac_Id Axis  \\\n",
       "228 2020-07-19 16:40:17  4c:92:10:8c    X   \n",
       "354 2020-07-13 15:37:31  84:e1:93:bd    X   \n",
       "489 2020-07-19 16:43:15  84:e1:93:bd    Y   \n",
       "493 2020-07-13 15:38:59  84:e1:93:bd    Z   \n",
       "558 2020-07-19 16:43:45  84:e1:93:bd    Z   \n",
       "\n",
       "                       Defect_Introduced             Asset_Id Sensor_Loc  \\\n",
       "228  Belt showing signs of wear and tear  101.CA.DTL.01.1-210    MET-EDT   \n",
       "354                    No Defect_No Load  101.CA.DTL.01.1-200    MET-EDT   \n",
       "489                    No Defect_No Load  101.CA.DTL.01.1-200    MET-EDT   \n",
       "493                    No Defect_No Load  101.CA.DTL.01.1-200    MET-EDT   \n",
       "558                    No Defect_No Load  101.CA.DTL.01.1-200    MET-EDT   \n",
       "\n",
       "          Max       Min      Mean       Std        P2P        Kurt        RMS  \\\n",
       "228  7.109375 -7.015625  0.033859  0.304636  14.125000  191.020657  19.614398   \n",
       "354  8.281250 -8.015625  0.229065  0.401707  16.296875  142.405036  29.592628   \n",
       "489  8.125000 -7.750000  0.051819  0.375243  15.875000  109.861083  24.240535   \n",
       "493  9.046875 -8.093750  0.918781  0.430832  17.140625  207.263463  64.944378   \n",
       "558  8.296875 -8.593750 -0.585484  0.683848  16.890625   31.856596  57.611570   \n",
       "\n",
       "          Var  \n",
       "228  0.092803  \n",
       "354  0.161368  \n",
       "489  0.140807  \n",
       "493  0.185616  \n",
       "558  0.467649  "
      ]
     },
     "execution_count": 113,
     "metadata": {},
     "output_type": "execute_result"
    }
   ],
   "source": [
    "processed[processed.P2P > 14.0]"
   ]
  },
  {
   "cell_type": "markdown",
   "metadata": {},
   "source": [
    "### calculate max,   min,   average,   std for each row"
   ]
  },
  {
   "cell_type": "code",
   "execution_count": 10,
   "metadata": {},
   "outputs": [],
   "source": [
    "processed['Max'] = Data.loc[:,'Vsample1':'Vsample4096'].max(axis=1)\n",
    "processed['Min'] = Data.loc[:,'Vsample1':'Vsample4096'].min(axis=1)\n",
    "processed['Mean'] = Data.loc[:,'Vsample1':'Vsample4096'].mean(axis=1)\n",
    "processed['Std'] = Data.loc[:,'Vsample1':'Vsample4096'].std(axis=1)"
   ]
  },
  {
   "cell_type": "markdown",
   "metadata": {},
   "source": [
    "### Peak to Peak"
   ]
  },
  {
   "cell_type": "code",
   "execution_count": 11,
   "metadata": {},
   "outputs": [],
   "source": [
    "processed['P2P'] = Data.loc[:,'Vsample1':'Vsample4096'].max(axis=1) - Data.loc[:,'Vsample1':'Vsample4096'].min(axis=1)"
   ]
  },
  {
   "cell_type": "markdown",
   "metadata": {},
   "source": [
    "### kurtosis"
   ]
  },
  {
   "cell_type": "code",
   "execution_count": 12,
   "metadata": {},
   "outputs": [],
   "source": [
    "processed['Kurt'] = Data.loc[:,'Vsample1':'Vsample4096'].kurt(axis=1)"
   ]
  },
  {
   "cell_type": "markdown",
   "metadata": {},
   "source": [
    "### RMS"
   ]
  },
  {
   "cell_type": "code",
   "execution_count": 13,
   "metadata": {},
   "outputs": [],
   "source": [
    "processed['RMS'] =  (Data.loc[:,'Vsample1':'Vsample4096']**2).sum(1).pow(1/2)"
   ]
  },
  {
   "cell_type": "markdown",
   "metadata": {},
   "source": [
    "### Variance"
   ]
  },
  {
   "cell_type": "code",
   "execution_count": 14,
   "metadata": {},
   "outputs": [],
   "source": [
    "processed['Var'] = Data.loc[:,'Vsample1':'Vsample4096'].var(axis=1)"
   ]
  },
  {
   "cell_type": "markdown",
   "metadata": {},
   "source": [
    "### Remove G as per vishal   RMS < 0.2 and Kurt < 300 and freq side"
   ]
  },
  {
   "cell_type": "code",
   "execution_count": null,
   "metadata": {},
   "outputs": [],
   "source": []
  },
  {
   "cell_type": "code",
   "execution_count": null,
   "metadata": {},
   "outputs": [],
   "source": []
  },
  {
   "cell_type": "markdown",
   "metadata": {},
   "source": [
    "# analyse by graphs"
   ]
  },
  {
   "cell_type": "code",
   "execution_count": null,
   "metadata": {},
   "outputs": [],
   "source": [
    "Data_final.iloc[:20,:]"
   ]
  },
  {
   "cell_type": "code",
   "execution_count": 116,
   "metadata": {},
   "outputs": [
    {
     "data": {
      "text/plain": [
       "<matplotlib.axes._subplots.AxesSubplot at 0x281833b5488>"
      ]
     },
     "execution_count": 116,
     "metadata": {},
     "output_type": "execute_result"
    },
    {
     "data": {
      "image/png": "[encoded data removed]",
      "text/plain": [
       "<Figure size 432x288 with 1 Axes>"
      ]
     },
     "metadata": {
      "needs_background": "light"
     },
     "output_type": "display_data"
    }
   ],
   "source": [
    "#for i in range(10):\n",
    "row = Data_final.iloc[228]['Vsample1':'Vsample4096']\n",
    "row.plot()"
   ]
  },
  {
   "cell_type": "code",
   "execution_count": 42,
   "metadata": {},
   "outputs": [],
   "source": [
    "row = processed['P2P']"
   ]
  },
  {
   "cell_type": "code",
   "execution_count": 48,
   "metadata": {},
   "outputs": [
    {
     "data": {
      "text/plain": [
       "<matplotlib.axes._subplots.AxesSubplot at 0x2817428b188>"
      ]
     },
     "execution_count": 48,
     "metadata": {},
     "output_type": "execute_result"
    },
    {
     "data": {
      "image/png": "[encoded data removed]",
      "text/plain": [
       "<Figure size 432x288 with 1 Axes>"
      ]
     },
     "metadata": {
      "needs_background": "light"
     },
     "output_type": "display_data"
    }
   ],
   "source": [
    "row.plot.box()"
   ]
  },
  {
   "cell_type": "code",
   "execution_count": null,
   "metadata": {},
   "outputs": [],
   "source": [
    "processed.groupby('Defect_Introduced').max()"
   ]
  },
  {
   "cell_type": "code",
   "execution_count": 55,
   "metadata": {},
   "outputs": [
    {
     "data": {
      "text/plain": [
       "<matplotlib.axes._subplots.AxesSubplot at 0x281756c9d48>"
      ]
     },
     "execution_count": 55,
     "metadata": {},
     "output_type": "execute_result"
    },
    {
     "data": {
      "image/png": "[encoded data removed]",
      "text/plain": [
       "<Figure size 432x288 with 1 Axes>"
      ]
     },
     "metadata": {
      "needs_background": "light"
     },
     "output_type": "display_data"
    }
   ],
   "source": [
    "processed['P2P'].plot()"
   ]
  },
  {
   "cell_type": "code",
   "execution_count": 56,
   "metadata": {},
   "outputs": [
    {
     "data": {
      "text/plain": [
       "(683, 14)"
      ]
     },
     "execution_count": 56,
     "metadata": {},
     "output_type": "execute_result"
    }
   ],
   "source": [
    "processed.shape"
   ]
  },
  {
   "cell_type": "code",
   "execution_count": 49,
   "metadata": {},
   "outputs": [
    {
     "data": {
      "text/plain": [
       "<matplotlib.axes._subplots.AxesSubplot at 0x2817438f1c8>"
      ]
     },
     "execution_count": 49,
     "metadata": {},
     "output_type": "execute_result"
    },
    {
     "data": {
      "image/png": "[encoded data removed]",
      "text/plain": [
       "<Figure size 432x288 with 1 Axes>"
      ]
     },
     "metadata": {
      "needs_background": "light"
     },
     "output_type": "display_data"
    }
   ],
   "source": [
    "processed['P2P'].plot.hist()"
   ]
  },
  {
   "cell_type": "markdown",
   "metadata": {},
   "source": [
    "### Frequency Distribution"
   ]
  },
  {
   "cell_type": "code",
   "execution_count": 31,
   "metadata": {},
   "outputs": [
    {
     "data": {
      "text/plain": [
       "3202"
      ]
     },
     "execution_count": 31,
     "metadata": {},
     "output_type": "execute_result"
    }
   ],
   "source": [
    "Sec = 1.279374957 # sampling duration\n",
    "N = 4096   # samples\n",
    "\n",
    "Fs_rate = round(N/Sec)\n",
    "Fs_rate    # in 1 second we sampled 3200 samples "
   ]
  },
  {
   "cell_type": "code",
   "execution_count": 37,
   "metadata": {},
   "outputs": [
    {
     "data": {
      "text/plain": [
       "0.0003123048094940662"
      ]
     },
     "execution_count": 37,
     "metadata": {},
     "output_type": "execute_result"
    }
   ],
   "source": [
    "Secs  = Sec/N\n",
    "Secs # at what time interval we sampled the data \n",
    "\n",
    "\n",
    "Ts = 1/Fs_rate\n",
    "Ts"
   ]
  },
  {
   "cell_type": "code",
   "execution_count": null,
   "metadata": {},
   "outputs": [],
   "source": [
    "processed.iloc[493][]"
   ]
  },
  {
   "cell_type": "markdown",
   "metadata": {},
   "source": [
    "### export plots of rows in dataframe"
   ]
  },
  {
   "cell_type": "code",
   "execution_count": 54,
   "metadata": {},
   "outputs": [
    {
     "data": {
      "image/png": "[encoded data removed]",
      "text/plain": [
       "<Figure size 432x288 with 1 Axes>"
      ]
     },
     "metadata": {
      "needs_background": "light"
     },
     "output_type": "display_data"
    }
   ],
   "source": [
    "for i, row in Data_final.iterrows():\n",
    "    row['Vsample1':'Vsample4096'].plot()"
   ]
  },
  {
   "cell_type": "markdown",
   "metadata": {},
   "source": [
    "# frequency graph above where a max frequency is above 8"
   ]
  },
  {
   "cell_type": "code",
   "execution_count": 59,
   "metadata": {},
   "outputs": [
    {
     "data": {
      "text/html": [
       "<div>\n",
       "<style scoped>\n",
       "    .dataframe tbody tr th:only-of-type {\n",
       "        vertical-align: middle;\n",
       "    }\n",
       "\n",
       "    .dataframe tbody tr th {\n",
       "        vertical-align: top;\n",
       "    }\n",
       "\n",
       "    .dataframe thead th {\n",
       "        text-align: right;\n",
       "    }\n",
       "</style>\n",
       "<table border=\"1\" class=\"dataframe\">\n",
       "  <thead>\n",
       "    <tr style=\"text-align: right;\">\n",
       "      <th></th>\n",
       "      <th>index</th>\n",
       "      <th>Data_pull_time</th>\n",
       "      <th>Mac_Id</th>\n",
       "      <th>Axis</th>\n",
       "      <th>Defect_Introduced</th>\n",
       "      <th>Asset_Id</th>\n",
       "      <th>Sensor_Loc</th>\n",
       "      <th>Vsample1</th>\n",
       "      <th>Vsample2</th>\n",
       "      <th>Vsample3</th>\n",
       "      <th>...</th>\n",
       "      <th>Vsample4087</th>\n",
       "      <th>Vsample4088</th>\n",
       "      <th>Vsample4089</th>\n",
       "      <th>Vsample4090</th>\n",
       "      <th>Vsample4091</th>\n",
       "      <th>Vsample4092</th>\n",
       "      <th>Vsample4093</th>\n",
       "      <th>Vsample4094</th>\n",
       "      <th>Vsample4095</th>\n",
       "      <th>Vsample4096</th>\n",
       "    </tr>\n",
       "  </thead>\n",
       "  <tbody>\n",
       "    <tr>\n",
       "      <th>0</th>\n",
       "      <td>0</td>\n",
       "      <td>2020-07-13 15:40:14</td>\n",
       "      <td>29:9c:fe:16</td>\n",
       "      <td>X</td>\n",
       "      <td>No Defect_No Load</td>\n",
       "      <td>101.CA.DTL.01.1-050</td>\n",
       "      <td>MET-TST</td>\n",
       "      <td>0.171875</td>\n",
       "      <td>0.640625</td>\n",
       "      <td>1.093750</td>\n",
       "      <td>...</td>\n",
       "      <td>-0.125000</td>\n",
       "      <td>-0.140625</td>\n",
       "      <td>-0.078125</td>\n",
       "      <td>-0.015625</td>\n",
       "      <td>0.000000</td>\n",
       "      <td>-0.015625</td>\n",
       "      <td>0.000000</td>\n",
       "      <td>0.015625</td>\n",
       "      <td>0.015625</td>\n",
       "      <td>-0.046875</td>\n",
       "    </tr>\n",
       "    <tr>\n",
       "      <th>1</th>\n",
       "      <td>1</td>\n",
       "      <td>2020-07-13 16:11:10</td>\n",
       "      <td>29:9c:fe:16</td>\n",
       "      <td>X</td>\n",
       "      <td>No Defect_No Load</td>\n",
       "      <td>101.CA.DTL.01.1-050</td>\n",
       "      <td>MET-TST</td>\n",
       "      <td>0.171875</td>\n",
       "      <td>0.015625</td>\n",
       "      <td>0.000000</td>\n",
       "      <td>...</td>\n",
       "      <td>-0.203125</td>\n",
       "      <td>0.000000</td>\n",
       "      <td>-0.234375</td>\n",
       "      <td>-0.078125</td>\n",
       "      <td>-0.234375</td>\n",
       "      <td>-0.109375</td>\n",
       "      <td>-0.093750</td>\n",
       "      <td>-0.078125</td>\n",
       "      <td>0.109375</td>\n",
       "      <td>0.093750</td>\n",
       "    </tr>\n",
       "    <tr>\n",
       "      <th>2</th>\n",
       "      <td>2</td>\n",
       "      <td>2020-07-14 09:20:54</td>\n",
       "      <td>29:9c:fe:16</td>\n",
       "      <td>X</td>\n",
       "      <td>No Defect_No Load</td>\n",
       "      <td>101.CA.DTL.01.1-050</td>\n",
       "      <td>MET-DSF</td>\n",
       "      <td>0.171875</td>\n",
       "      <td>0.015625</td>\n",
       "      <td>0.031250</td>\n",
       "      <td>...</td>\n",
       "      <td>-0.140625</td>\n",
       "      <td>-0.031250</td>\n",
       "      <td>0.015625</td>\n",
       "      <td>0.031250</td>\n",
       "      <td>0.156250</td>\n",
       "      <td>0.250000</td>\n",
       "      <td>0.156250</td>\n",
       "      <td>0.109375</td>\n",
       "      <td>0.125000</td>\n",
       "      <td>0.125000</td>\n",
       "    </tr>\n",
       "    <tr>\n",
       "      <th>3</th>\n",
       "      <td>3</td>\n",
       "      <td>2020-07-14 10:14:32</td>\n",
       "      <td>29:9c:fe:16</td>\n",
       "      <td>X</td>\n",
       "      <td>No Defect_No Load</td>\n",
       "      <td>101.CA.DTL.01.1-050</td>\n",
       "      <td>MET-DSF</td>\n",
       "      <td>0.171875</td>\n",
       "      <td>0.015625</td>\n",
       "      <td>0.000000</td>\n",
       "      <td>...</td>\n",
       "      <td>0.218750</td>\n",
       "      <td>0.015625</td>\n",
       "      <td>0.125000</td>\n",
       "      <td>0.218750</td>\n",
       "      <td>0.125000</td>\n",
       "      <td>0.031250</td>\n",
       "      <td>0.046875</td>\n",
       "      <td>-0.015625</td>\n",
       "      <td>-0.171875</td>\n",
       "      <td>-0.218750</td>\n",
       "    </tr>\n",
       "    <tr>\n",
       "      <th>4</th>\n",
       "      <td>4</td>\n",
       "      <td>2020-07-14 10:33:04</td>\n",
       "      <td>29:9c:fe:16</td>\n",
       "      <td>X</td>\n",
       "      <td>No Defect_No Load</td>\n",
       "      <td>101.CA.DTL.01.1-050</td>\n",
       "      <td>MET-DSF</td>\n",
       "      <td>0.171875</td>\n",
       "      <td>-0.046875</td>\n",
       "      <td>0.015625</td>\n",
       "      <td>...</td>\n",
       "      <td>0.015625</td>\n",
       "      <td>0.000000</td>\n",
       "      <td>-0.015625</td>\n",
       "      <td>0.000000</td>\n",
       "      <td>-0.015625</td>\n",
       "      <td>0.000000</td>\n",
       "      <td>0.015625</td>\n",
       "      <td>0.031250</td>\n",
       "      <td>0.046875</td>\n",
       "      <td>0.046875</td>\n",
       "    </tr>\n",
       "  </tbody>\n",
       "</table>\n",
       "<p>5 rows × 4103 columns</p>\n",
       "</div>"
      ],
      "text/plain": [
       "   index      Data_pull_time       Mac_Id Axis  Defect_Introduced  \\\n",
       "0      0 2020-07-13 15:40:14  29:9c:fe:16    X  No Defect_No Load   \n",
       "1      1 2020-07-13 16:11:10  29:9c:fe:16    X  No Defect_No Load   \n",
       "2      2 2020-07-14 09:20:54  29:9c:fe:16    X  No Defect_No Load   \n",
       "3      3 2020-07-14 10:14:32  29:9c:fe:16    X  No Defect_No Load   \n",
       "4      4 2020-07-14 10:33:04  29:9c:fe:16    X  No Defect_No Load   \n",
       "\n",
       "              Asset_Id Sensor_Loc  Vsample1  Vsample2  Vsample3  ...  \\\n",
       "0  101.CA.DTL.01.1-050    MET-TST  0.171875  0.640625  1.093750  ...   \n",
       "1  101.CA.DTL.01.1-050    MET-TST  0.171875  0.015625  0.000000  ...   \n",
       "2  101.CA.DTL.01.1-050    MET-DSF  0.171875  0.015625  0.031250  ...   \n",
       "3  101.CA.DTL.01.1-050    MET-DSF  0.171875  0.015625  0.000000  ...   \n",
       "4  101.CA.DTL.01.1-050    MET-DSF  0.171875 -0.046875  0.015625  ...   \n",
       "\n",
       "   Vsample4087  Vsample4088  Vsample4089  Vsample4090  Vsample4091  \\\n",
       "0    -0.125000    -0.140625    -0.078125    -0.015625     0.000000   \n",
       "1    -0.203125     0.000000    -0.234375    -0.078125    -0.234375   \n",
       "2    -0.140625    -0.031250     0.015625     0.031250     0.156250   \n",
       "3     0.218750     0.015625     0.125000     0.218750     0.125000   \n",
       "4     0.015625     0.000000    -0.015625     0.000000    -0.015625   \n",
       "\n",
       "   Vsample4092  Vsample4093  Vsample4094  Vsample4095  Vsample4096  \n",
       "0    -0.015625     0.000000     0.015625     0.015625    -0.046875  \n",
       "1    -0.109375    -0.093750    -0.078125     0.109375     0.093750  \n",
       "2     0.250000     0.156250     0.109375     0.125000     0.125000  \n",
       "3     0.031250     0.046875    -0.015625    -0.171875    -0.218750  \n",
       "4     0.000000     0.015625     0.031250     0.046875     0.046875  \n",
       "\n",
       "[5 rows x 4103 columns]"
      ]
     },
     "execution_count": 59,
     "metadata": {},
     "output_type": "execute_result"
    }
   ],
   "source": [
    "Data_final.head()"
   ]
  },
  {
   "cell_type": "code",
   "execution_count": 77,
   "metadata": {},
   "outputs": [],
   "source": [
    "for i, row in Data_final.iterrows():\n",
    "    #print(row['Vsample1':'Vsample4096'].max())\n",
    "    if row['Vsample1':'Vsample4096'].max() >= 8:\n",
    "        plot = row['Vsample1':'Vsample4096'].plot.hist()\n",
    "        #plot.set_xlim(0,4)\n",
    "        fig = plot.get_figure()\n",
    "        plt.suptitle(str(row['Data_pull_time'])+' '+row['Axis'])\n",
    "        plt.title(row['Defect_Introduced']+' '+row['Sensor_Loc'])\n",
    "        fig.savefig('./Histo/'+row['Mac_Id'].replace(\":\",\"\")+'_output'+str(i)+'.png')\n",
    "    \n",
    "        plt.close()"
   ]
  },
  {
   "cell_type": "code",
   "execution_count": null,
   "metadata": {},
   "outputs": [],
   "source": [
    "row['Data_pull_time'] <= pd.to_datetime('2020-07-14 00:00:00')"
   ]
  },
  {
   "cell_type": "markdown",
   "metadata": {},
   "source": [
    "## Oulier removal from P2P using box plot outlier detection\n",
    "### Metering data grouped on sensor location, fault "
   ]
  },
  {
   "cell_type": "code",
   "execution_count": 82,
   "metadata": {},
   "outputs": [
    {
     "data": {
      "text/html": [
       "<div>\n",
       "<style scoped>\n",
       "    .dataframe tbody tr th:only-of-type {\n",
       "        vertical-align: middle;\n",
       "    }\n",
       "\n",
       "    .dataframe tbody tr th {\n",
       "        vertical-align: top;\n",
       "    }\n",
       "\n",
       "    .dataframe thead th {\n",
       "        text-align: right;\n",
       "    }\n",
       "</style>\n",
       "<table border=\"1\" class=\"dataframe\">\n",
       "  <thead>\n",
       "    <tr style=\"text-align: right;\">\n",
       "      <th></th>\n",
       "      <th>Data_pull_time</th>\n",
       "      <th>Mac_Id</th>\n",
       "      <th>Axis</th>\n",
       "      <th>Defect_Introduced</th>\n",
       "      <th>Asset_Id</th>\n",
       "      <th>Sensor_Loc</th>\n",
       "      <th>Max</th>\n",
       "      <th>Min</th>\n",
       "      <th>Mean</th>\n",
       "      <th>Std</th>\n",
       "      <th>P2P</th>\n",
       "      <th>Kurt</th>\n",
       "      <th>RMS</th>\n",
       "      <th>Var</th>\n",
       "    </tr>\n",
       "  </thead>\n",
       "  <tbody>\n",
       "    <tr>\n",
       "      <th>0</th>\n",
       "      <td>2020-07-13 15:40:14</td>\n",
       "      <td>29:9c:fe:16</td>\n",
       "      <td>X</td>\n",
       "      <td>No Defect_No Load</td>\n",
       "      <td>101.CA.DTL.01.1-050</td>\n",
       "      <td>MET-TST</td>\n",
       "      <td>1.968750</td>\n",
       "      <td>-1.546875</td>\n",
       "      <td>0.005970</td>\n",
       "      <td>0.214495</td>\n",
       "      <td>3.515625</td>\n",
       "      <td>15.857203</td>\n",
       "      <td>13.731299</td>\n",
       "      <td>0.046008</td>\n",
       "    </tr>\n",
       "    <tr>\n",
       "      <th>1</th>\n",
       "      <td>2020-07-13 16:11:10</td>\n",
       "      <td>29:9c:fe:16</td>\n",
       "      <td>X</td>\n",
       "      <td>No Defect_No Load</td>\n",
       "      <td>101.CA.DTL.01.1-050</td>\n",
       "      <td>MET-TST</td>\n",
       "      <td>0.640625</td>\n",
       "      <td>-0.562500</td>\n",
       "      <td>0.005566</td>\n",
       "      <td>0.084800</td>\n",
       "      <td>1.203125</td>\n",
       "      <td>3.319736</td>\n",
       "      <td>5.438241</td>\n",
       "      <td>0.007191</td>\n",
       "    </tr>\n",
       "    <tr>\n",
       "      <th>2</th>\n",
       "      <td>2020-07-14 09:20:54</td>\n",
       "      <td>29:9c:fe:16</td>\n",
       "      <td>X</td>\n",
       "      <td>No Defect_No Load</td>\n",
       "      <td>101.CA.DTL.01.1-050</td>\n",
       "      <td>MET-DSF</td>\n",
       "      <td>0.500000</td>\n",
       "      <td>-0.531250</td>\n",
       "      <td>0.006184</td>\n",
       "      <td>0.098063</td>\n",
       "      <td>1.031250</td>\n",
       "      <td>0.764959</td>\n",
       "      <td>6.287757</td>\n",
       "      <td>0.009616</td>\n",
       "    </tr>\n",
       "    <tr>\n",
       "      <th>3</th>\n",
       "      <td>2020-07-14 10:14:32</td>\n",
       "      <td>29:9c:fe:16</td>\n",
       "      <td>X</td>\n",
       "      <td>No Defect_No Load</td>\n",
       "      <td>101.CA.DTL.01.1-050</td>\n",
       "      <td>MET-DSF</td>\n",
       "      <td>0.781250</td>\n",
       "      <td>-0.531250</td>\n",
       "      <td>0.005722</td>\n",
       "      <td>0.111216</td>\n",
       "      <td>1.312500</td>\n",
       "      <td>1.537715</td>\n",
       "      <td>7.126370</td>\n",
       "      <td>0.012369</td>\n",
       "    </tr>\n",
       "    <tr>\n",
       "      <th>4</th>\n",
       "      <td>2020-07-14 10:33:04</td>\n",
       "      <td>29:9c:fe:16</td>\n",
       "      <td>X</td>\n",
       "      <td>No Defect_No Load</td>\n",
       "      <td>101.CA.DTL.01.1-050</td>\n",
       "      <td>MET-DSF</td>\n",
       "      <td>0.171875</td>\n",
       "      <td>-0.140625</td>\n",
       "      <td>0.006302</td>\n",
       "      <td>0.038998</td>\n",
       "      <td>0.312500</td>\n",
       "      <td>0.788191</td>\n",
       "      <td>2.527969</td>\n",
       "      <td>0.001521</td>\n",
       "    </tr>\n",
       "  </tbody>\n",
       "</table>\n",
       "</div>"
      ],
      "text/plain": [
       "       Data_pull_time       Mac_Id Axis  Defect_Introduced  \\\n",
       "0 2020-07-13 15:40:14  29:9c:fe:16    X  No Defect_No Load   \n",
       "1 2020-07-13 16:11:10  29:9c:fe:16    X  No Defect_No Load   \n",
       "2 2020-07-14 09:20:54  29:9c:fe:16    X  No Defect_No Load   \n",
       "3 2020-07-14 10:14:32  29:9c:fe:16    X  No Defect_No Load   \n",
       "4 2020-07-14 10:33:04  29:9c:fe:16    X  No Defect_No Load   \n",
       "\n",
       "              Asset_Id Sensor_Loc       Max       Min      Mean       Std  \\\n",
       "0  101.CA.DTL.01.1-050    MET-TST  1.968750 -1.546875  0.005970  0.214495   \n",
       "1  101.CA.DTL.01.1-050    MET-TST  0.640625 -0.562500  0.005566  0.084800   \n",
       "2  101.CA.DTL.01.1-050    MET-DSF  0.500000 -0.531250  0.006184  0.098063   \n",
       "3  101.CA.DTL.01.1-050    MET-DSF  0.781250 -0.531250  0.005722  0.111216   \n",
       "4  101.CA.DTL.01.1-050    MET-DSF  0.171875 -0.140625  0.006302  0.038998   \n",
       "\n",
       "        P2P       Kurt        RMS       Var  \n",
       "0  3.515625  15.857203  13.731299  0.046008  \n",
       "1  1.203125   3.319736   5.438241  0.007191  \n",
       "2  1.031250   0.764959   6.287757  0.009616  \n",
       "3  1.312500   1.537715   7.126370  0.012369  \n",
       "4  0.312500   0.788191   2.527969  0.001521  "
      ]
     },
     "execution_count": 82,
     "metadata": {},
     "output_type": "execute_result"
    }
   ],
   "source": [
    "Data_final.shape\n",
    "processed.head()"
   ]
  },
  {
   "cell_type": "code",
   "execution_count": 91,
   "metadata": {},
   "outputs": [],
   "source": [
    "P2P_List = processed.groupby(['Defect_Introduced','Sensor_Loc']).P2P.apply(list).reset_index(name='P2P')"
   ]
  },
  {
   "cell_type": "code",
   "execution_count": 152,
   "metadata": {},
   "outputs": [
    {
     "data": {
      "text/plain": [
       "pandas.core.frame.DataFrame"
      ]
     },
     "execution_count": 152,
     "metadata": {},
     "output_type": "execute_result"
    }
   ],
   "source": [
    "P2P_List\n",
    "type(P2P_List)"
   ]
  },
  {
   "cell_type": "code",
   "execution_count": 101,
   "metadata": {},
   "outputs": [],
   "source": [
    "x = P2P_List[P2P_List['Defect_Introduced'] == 'Belt showing signs of wear and tear'].P2P"
   ]
  },
  {
   "cell_type": "code",
   "execution_count": 111,
   "metadata": {},
   "outputs": [
    {
     "data": {
      "text/plain": [
       "<matplotlib.axes._subplots.AxesSubplot at 0x2818baa0fc8>"
      ]
     },
     "execution_count": 111,
     "metadata": {},
     "output_type": "execute_result"
    },
    {
     "data": {
      "image/png": "[encoded data removed]",
      "text/plain": [
       "<Figure size 432x288 with 1 Axes>"
      ]
     },
     "metadata": {
      "needs_background": "light"
     },
     "output_type": "display_data"
    }
   ],
   "source": [
    "pd.Series(x[0]).plot()"
   ]
  },
  {
   "cell_type": "markdown",
   "metadata": {},
   "source": [
    "### FFT"
   ]
  },
  {
   "cell_type": "code",
   "execution_count": 38,
   "metadata": {},
   "outputs": [],
   "source": [
    "row = Data_final.iloc[228]['Vsample1':'Vsample4096']\n",
    "row.to_csv('ttesting.csv')\n",
    "    "
   ]
  },
  {
   "cell_type": "code",
   "execution_count": 44,
   "metadata": {},
   "outputs": [
    {
     "name": "stdout",
     "output_type": "stream",
     "text": [
      "-0.78173828125\n"
     ]
    },
    {
     "data": {
      "text/plain": [
       "3202.0"
      ]
     },
     "execution_count": 44,
     "metadata": {},
     "output_type": "execute_result"
    },
    {
     "data": {
      "image/png": "[encoded data removed]",
      "text/plain": [
       "<Figure size 432x288 with 1 Axes>"
      ]
     },
     "metadata": {
      "needs_background": "light"
     },
     "output_type": "display_data"
    }
   ],
   "source": [
    "row = Data_final.iloc[228]['Vsample1':'Vsample4096']\n",
    "N=4096\n",
    "sec = 1.279374957\n",
    "fs_rate=round(N/sec) ## alternatively that means frequency\n",
    "\n",
    "   \n",
    "secs = N / float(fs_rate) ## time for which it will be played in sec\n",
    "\n",
    "Ts = 1.0/fs_rate # sampling interval in time\n",
    "\n",
    "t = np.arange(0, secs, Ts) # time vector as scipy arange field / numpy.ndarray\n",
    "\n",
    "freqs = scipy.fft.fftfreq(N, t[1]-t[0])\n",
    "print(freqs[4095])\n",
    "freqs_side = freqs[range(N//2)] # one side frequency range\n",
    "               \n",
    "                ## caliberate the sensor in case there is gravitational effect left from the sensor settings\n",
    "data = Data_final.iloc[228]['Vsample1':'Vsample4096']\n",
    "meanVal=np.mean(data)\n",
    "data-=meanVal\n",
    "   \n",
    "FFT = scipy.fft.fft(data)\n",
    "FFT_side = FFT[range(N//2)] # one side FFT range, because we need just the haf of the frequency data because of symmetry\n",
    "abs_fft_1=2*abs(FFT_side)/N\n",
    "\n",
    "\n",
    "type(abs_fft_1)\n",
    "plt.plot(abs(FFT[range(N//2)]))\n",
    "\n",
    "1/t[1]"
   ]
  },
  {
   "cell_type": "code",
   "execution_count": 35,
   "metadata": {},
   "outputs": [
    {
     "name": "stdout",
     "output_type": "stream",
     "text": [
      "1.5632633647056764\n"
     ]
    },
    {
     "data": {
      "text/plain": [
       "array([0.        , 0.78173828, 1.56347656, 2.34521484, 3.12695312,\n",
       "       3.90869141, 4.69042969, 5.47216797, 6.25390625, 7.03564453])"
      ]
     },
     "execution_count": 35,
     "metadata": {},
     "output_type": "execute_result"
    }
   ],
   "source": [
    "print(1/sec + 1/sec)\n",
    "freqs[:10]"
   ]
  },
  {
   "cell_type": "code",
   "execution_count": 29,
   "metadata": {},
   "outputs": [
    {
     "data": {
      "text/plain": [
       "<matplotlib.axes._subplots.AxesSubplot at 0x23fa0189a48>"
      ]
     },
     "execution_count": 29,
     "metadata": {},
     "output_type": "execute_result"
    },
    {
     "data": {
      "image/png": "[encoded data removed]",
      "text/plain": [
       "<Figure size 432x288 with 1 Axes>"
      ]
     },
     "metadata": {
      "needs_background": "light"
     },
     "output_type": "display_data"
    }
   ],
   "source": [
    "row.plot()"
   ]
  },
  {
   "cell_type": "code",
   "execution_count": 147,
   "metadata": {},
   "outputs": [
    {
     "name": "stderr",
     "output_type": "stream",
     "text": [
      "C:\\Users\\husssabe\\AppData\\Local\\Continuum\\anaconda3\\lib\\site-packages\\numpy\\core\\_asarray.py:83: ComplexWarning: Casting complex values to real discards the imaginary part\n",
      "  return array(a, dtype, copy=False, order=order)\n"
     ]
    },
    {
     "data": {
      "text/plain": [
       "[<matplotlib.lines.Line2D at 0x2818376b388>]"
      ]
     },
     "execution_count": 147,
     "metadata": {},
     "output_type": "execute_result"
    },
    {
     "data": {
      "image/png": "[encoded data removed]",
      "text/plain": [
       "<Figure size 432x288 with 1 Axes>"
      ]
     },
     "metadata": {
      "needs_background": "light"
     },
     "output_type": "display_data"
    }
   ],
   "source": [
    "plt.plot(FFT)"
   ]
  },
  {
   "cell_type": "code",
   "execution_count": 125,
   "metadata": {},
   "outputs": [
    {
     "data": {
      "text/plain": [
       "<matplotlib.axes._subplots.AxesSubplot at 0x28183442b08>"
      ]
     },
     "execution_count": 125,
     "metadata": {},
     "output_type": "execute_result"
    },
    {
     "data": {
      "image/png": "[encoded data removed]",
      "text/plain": [
       "<Figure size 432x288 with 1 Axes>"
      ]
     },
     "metadata": {
      "needs_background": "light"
     },
     "output_type": "display_data"
    }
   ],
   "source": [
    "row.plot()"
   ]
  },
  {
   "cell_type": "code",
   "execution_count": 94,
   "metadata": {},
   "outputs": [
    {
     "data": {
      "text/plain": [
       "Defect_Introduced                    Sensor_Loc\n",
       "Belt showing signs of wear and tear  MET-EDT         6\n",
       "No Defect_No Load                    MET-CFL        33\n",
       "                                     MET-CFR        10\n",
       "                                     MET-DSF        33\n",
       "                                     MET-DUL         9\n",
       "                                     MET-DUR        18\n",
       "                                     MET-EDT       346\n",
       "                                     MET-TST        18\n",
       "                                     MET-TUL        69\n",
       "                                     MET-TUR        66\n",
       "Slight Wobling in the motor          MET-DSF        39\n",
       "                                     MET-DUL         9\n",
       "                                     MET-DUR        27\n",
       "Name: P2P, dtype: int64"
      ]
     },
     "execution_count": 94,
     "metadata": {},
     "output_type": "execute_result"
    }
   ],
   "source": [
    "processed.groupby(['Defect_Introduced','Sensor_Loc']).P2P.count()"
   ]
  },
  {
   "cell_type": "markdown",
   "metadata": {},
   "source": [
    "### create box plot processed data for each row"
   ]
  },
  {
   "cell_type": "code",
   "execution_count": 165,
   "metadata": {},
   "outputs": [],
   "source": [
    "for i,row in P2P_List.iterrows():\n",
    "    plot = pd.Series(row['P2P']).plot.box()\n",
    "    fig = plot.get_figure()\n",
    "    plt.suptitle(str(row['Defect_Introduced']))\n",
    "    plt.title(row['Sensor_Loc'])\n",
    "    fig.savefig('./Outlier/'+str(i)+'.png')\n",
    "    plt.close()"
   ]
  },
  {
   "cell_type": "code",
   "execution_count": null,
   "metadata": {},
   "outputs": [],
   "source": [
    "for i,row in Data[(Data.Defect_Introduced == \"No Defect_Empty Tray\")  & (Data.Asset_Id == \"101.CA.DTL.01.1-030\") & (Data.Axis == 'X')].iterrows():\n",
    "    #if (row['Vsample1':'Vsample4096'].max() > 2) and (row['Vsample1':'Vsample4096'].min() < 0) :\n",
    "    plot = row['Vsample1':'Vsample4096'].plot()\n",
    "    plot.set_ylim(-4,4)\n",
    "    fig = plot.get_figure()\n",
    "    plt.suptitle(str(row['Data_pull_time'])+' '+row['Axis'])\n",
    "    plt.title(row['Defect_Introduced']+' '+row['Sensor_Loc'])\n",
    "    fig.savefig('./101.CA.DTL.01.1-030/Load/X/'+row['Mac_Id'].replace(\":\",\"\")+'_'+row['Axis']+'_'+str(i)+'.png')\n",
    "    plt.close()"
   ]
  }
 ],
 "metadata": {
  "kernelspec": {
   "display_name": "Python 3",
   "language": "python",
   "name": "python3"
  },
  "language_info": {
   "codemirror_mode": {
    "name": "ipython",
    "version": 3
   },
   "file_extension": ".py",
   "mimetype": "text/x-python",
   "name": "python",
   "nbconvert_exporter": "python",
   "pygments_lexer": "ipython3",
   "version": "3.8.5"
  }
 },
 "nbformat": 4,
 "nbformat_minor": 4
}
